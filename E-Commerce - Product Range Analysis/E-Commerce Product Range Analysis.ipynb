{
 "cells": [
  {
   "cell_type": "markdown",
   "id": "b92c82bf",
   "metadata": {},
   "source": [
    "# E-Commerce: Product Range Analysis"
   ]
  },
  {
   "cell_type": "markdown",
   "id": "9cf356e2",
   "metadata": {},
   "source": [
    "## Introduction"
   ]
  },
  {
   "cell_type": "markdown",
   "id": "90d6eb79",
   "metadata": {},
   "source": [
    "Our task is to analyze the product range of an online store that sells household goods.\n",
    "\n",
    "We'll identify the top-selling products, determine if seasonality affects sales, and more.\n",
    "\n",
    "By doing so, we'll allow the owners to make better decisions, which will ultimately lead to more revenue, better product selection, and a better user experience."
   ]
  },
  {
   "cell_type": "markdown",
   "id": "900e1043",
   "metadata": {},
   "source": [
    "### Description of the data"
   ]
  },
  {
   "cell_type": "markdown",
   "id": "d5b13548",
   "metadata": {},
   "source": [
    "The dataset contains the transaction history of an online store that sells household goods.\n",
    "\n",
    "The file `ecommerce_dataset_us.csv` contains the following columns:\n",
    "\n",
    "`InvoiceNo` — order identifier\n",
    "\n",
    "`StockCode` — item identifier\n",
    "\n",
    "`Description` — item name\n",
    "\n",
    "`Quantity`\n",
    "\n",
    "`InvoiceDate` — order date\n",
    "\n",
    "`UnitPrice` — price per item\n",
    "\n",
    "`CustomerID`"
   ]
  },
  {
   "cell_type": "markdown",
   "id": "32b7b814",
   "metadata": {},
   "source": [
    "<h1>Tables Of Contents <a class=\"anchor\" id=\"table_of_contents\"></a></h1>"
   ]
  },
  {
   "cell_type": "markdown",
   "id": "f2195bb6",
   "metadata": {},
   "source": [
    "- [1. Study the genereal information](#info)\n",
    "- [2. Data preprocessing](#pre)\n",
    "- [3. Exploratory data analysis](#eda)\n",
    "- [4. Market basket analysis](#basket)\n",
    "- [5. Testing hypotheses](#test)\n",
    "- [6. Final conclusion](#conclusion)\n",
    "- [7. Link to dashboard](#links)\n",
    "- [8. Resources](#re)"
   ]
  },
  {
   "cell_type": "markdown",
   "id": "faf616fa",
   "metadata": {},
   "source": [
    "## Load the data file and study the general information."
   ]
  },
  {
   "cell_type": "markdown",
   "id": "18fabfc6",
   "metadata": {},
   "source": [
    "<a class=\"anchor\" id=\"info\"></a>\n",
    "[Go back to the Table of Contents](#table_of_contents)"
   ]
  },
  {
   "cell_type": "code",
   "execution_count": 1,
   "id": "bd99d687",
   "metadata": {},
   "outputs": [],
   "source": [
    "# !pip install -Uq plotly\n",
    "# !pip install sidetable -U\n",
    "# !pip install -U seaborn\n",
    "# pip install mlxtend"
   ]
  },
  {
   "cell_type": "markdown",
   "id": "f169ae0f",
   "metadata": {},
   "source": [
    "Import libraries:"
   ]
  },
  {
   "cell_type": "code",
   "execution_count": 2,
   "id": "8619624d",
   "metadata": {},
   "outputs": [],
   "source": [
    "import pandas as pd\n",
    "import numpy as np\n",
    "import math\n",
    "import matplotlib.pyplot as plt\n",
    "import seaborn as sns\n",
    "import plotly.express as px\n",
    "from scipy import stats as st\n",
    "from datetime import datetime\n",
    "import sys\n",
    "import warnings\n",
    "import sidetable\n",
    "from mlxtend.frequent_patterns import apriori\n",
    "from mlxtend.frequent_patterns import association_rules"
   ]
  },
  {
   "cell_type": "markdown",
   "id": "7a024c0c",
   "metadata": {},
   "source": [
    "Load data file to variable `ecommerce_data`: "
   ]
  },
  {
   "cell_type": "code",
   "execution_count": 3,
   "id": "40c66229",
   "metadata": {},
   "outputs": [],
   "source": [
    "try:\n",
    "    ecommerce_data = pd.read_csv('ecommerce_dataset_us.csv', sep=\"\\t\")\n",
    "except:\n",
    "    ecommerce_data = pd.read_csv('/datasets/ecommerce_dataset_us.csv', sep=\"\\t\")"
   ]
  },
  {
   "cell_type": "code",
   "execution_count": 4,
   "id": "adf9de88",
   "metadata": {},
   "outputs": [],
   "source": [
    "# ignore 'FutureWarning'\n",
    "if not sys.warnoptions:\n",
    "       warnings.simplefilter(\"ignore\")"
   ]
  },
  {
   "cell_type": "markdown",
   "id": "1ed3248d",
   "metadata": {},
   "source": [
    "Let's write a function to automate the initial study of the genenral information of the dataset:"
   ]
  },
  {
   "cell_type": "code",
   "execution_count": 5,
   "id": "22f513ac",
   "metadata": {},
   "outputs": [],
   "source": [
    "def study_general_info(dataframe):\n",
    "    '''\n",
    "    This function provides us general information about a dataframe:\n",
    "    - Random ten rows of the df.\n",
    "    - Info about dataframe length, number of columns, columns' data type, memory usage.\n",
    "    - Info about missing values and duplicates.\n",
    "    - Basic statistical information about the dataframe.\n",
    "    \n",
    "    @param dataframe: The dataframe we want to study.\n",
    "    @return: does not return anything, instead, print the information mentioned above.\n",
    "    '''\n",
    "    \n",
    "    # print the random 10 rows of the dataframe\n",
    "    print('\\033[1m' + 'Random ten rows of the dataset:' + '\\033[0m')\n",
    "    display(dataframe.sample(10))\n",
    "    print()\n",
    "    \n",
    "    # use info() method to check columns' data types\n",
    "    print('\\033[1m' + 'General info:' + '\\033[0m')\n",
    "    display(dataframe.info())\n",
    "    print()\n",
    "    \n",
    "    # calculate number of missing values and their share of the column's values\n",
    "    print('\\033[1m' + 'Missing values:' + '\\033[0m')\n",
    "    display(dataframe.stb.missing(style=True))\n",
    "    print()\n",
    "    \n",
    "    # find out if there are duplicates in the dataframe\n",
    "    duplicates_cnt = dataframe.duplicated().sum()\n",
    "    print('\\033[1m' + 'Duplicates:' + '\\033[0m')\n",
    "    \n",
    "    if duplicates_cnt > 0:\n",
    "        print('Number of duplicates rows in the data is: {}'.format(duplicates_cnt))\n",
    "    else:\n",
    "        print('No duplicates found')\n",
    "    print()\n",
    "    \n",
    "    # print the basic statistical info of the data\n",
    "    print('\\033[1m' + 'Basic statistical information:' + '\\033[0m')\n",
    "    display(dataframe.describe())"
   ]
  },
  {
   "cell_type": "markdown",
   "id": "202977e7",
   "metadata": {},
   "source": [
    "Apply the function above to `ecommerce_data`:"
   ]
  },
  {
   "cell_type": "code",
   "execution_count": 6,
   "id": "8a6f7b79",
   "metadata": {
    "scrolled": false
   },
   "outputs": [
    {
     "name": "stdout",
     "output_type": "stream",
     "text": [
      "\u001b[1mRandom ten rows of the dataset:\u001b[0m\n"
     ]
    },
    {
     "data": {
      "text/html": [
       "<div>\n",
       "<style scoped>\n",
       "    .dataframe tbody tr th:only-of-type {\n",
       "        vertical-align: middle;\n",
       "    }\n",
       "\n",
       "    .dataframe tbody tr th {\n",
       "        vertical-align: top;\n",
       "    }\n",
       "\n",
       "    .dataframe thead th {\n",
       "        text-align: right;\n",
       "    }\n",
       "</style>\n",
       "<table border=\"1\" class=\"dataframe\">\n",
       "  <thead>\n",
       "    <tr style=\"text-align: right;\">\n",
       "      <th></th>\n",
       "      <th>InvoiceNo</th>\n",
       "      <th>StockCode</th>\n",
       "      <th>Description</th>\n",
       "      <th>Quantity</th>\n",
       "      <th>InvoiceDate</th>\n",
       "      <th>UnitPrice</th>\n",
       "      <th>CustomerID</th>\n",
       "    </tr>\n",
       "  </thead>\n",
       "  <tbody>\n",
       "    <tr>\n",
       "      <th>540998</th>\n",
       "      <td>581492</td>\n",
       "      <td>22730</td>\n",
       "      <td>ALARM CLOCK BAKELIKE IVORY</td>\n",
       "      <td>1</td>\n",
       "      <td>12/07/2019 10:03</td>\n",
       "      <td>7.46</td>\n",
       "      <td>NaN</td>\n",
       "    </tr>\n",
       "    <tr>\n",
       "      <th>242145</th>\n",
       "      <td>558315</td>\n",
       "      <td>22070</td>\n",
       "      <td>SMALL RED RETROSPOT MUG IN BOX</td>\n",
       "      <td>6</td>\n",
       "      <td>06/26/2019 11:44</td>\n",
       "      <td>3.75</td>\n",
       "      <td>15065.0</td>\n",
       "    </tr>\n",
       "    <tr>\n",
       "      <th>139046</th>\n",
       "      <td>548260</td>\n",
       "      <td>22995</td>\n",
       "      <td>TRAVEL CARD WALLET SUKI</td>\n",
       "      <td>2</td>\n",
       "      <td>03/28/2019 11:18</td>\n",
       "      <td>0.42</td>\n",
       "      <td>15373.0</td>\n",
       "    </tr>\n",
       "    <tr>\n",
       "      <th>196196</th>\n",
       "      <td>553831</td>\n",
       "      <td>23091</td>\n",
       "      <td>ZINC HERB GARDEN CONTAINER</td>\n",
       "      <td>3</td>\n",
       "      <td>05/17/2019 11:36</td>\n",
       "      <td>6.25</td>\n",
       "      <td>14442.0</td>\n",
       "    </tr>\n",
       "    <tr>\n",
       "      <th>46564</th>\n",
       "      <td>540355</td>\n",
       "      <td>22088</td>\n",
       "      <td>PAPER BUNTING COLOURED LACE</td>\n",
       "      <td>4</td>\n",
       "      <td>01/04/2019 15:11</td>\n",
       "      <td>4.21</td>\n",
       "      <td>NaN</td>\n",
       "    </tr>\n",
       "    <tr>\n",
       "      <th>304770</th>\n",
       "      <td>563613</td>\n",
       "      <td>21245</td>\n",
       "      <td>GREEN POLKADOT PLATE</td>\n",
       "      <td>24</td>\n",
       "      <td>08/16/2019 08:49</td>\n",
       "      <td>1.69</td>\n",
       "      <td>12688.0</td>\n",
       "    </tr>\n",
       "    <tr>\n",
       "      <th>330560</th>\n",
       "      <td>565919</td>\n",
       "      <td>23198</td>\n",
       "      <td>PANTRY MAGNETIC  SHOPPING LIST</td>\n",
       "      <td>3</td>\n",
       "      <td>09/05/2019 16:48</td>\n",
       "      <td>3.29</td>\n",
       "      <td>NaN</td>\n",
       "    </tr>\n",
       "    <tr>\n",
       "      <th>303604</th>\n",
       "      <td>563549</td>\n",
       "      <td>22309</td>\n",
       "      <td>TEA COSY RED  STRIPE</td>\n",
       "      <td>1</td>\n",
       "      <td>08/15/2019 12:34</td>\n",
       "      <td>4.96</td>\n",
       "      <td>NaN</td>\n",
       "    </tr>\n",
       "    <tr>\n",
       "      <th>68672</th>\n",
       "      <td>541871</td>\n",
       "      <td>22178</td>\n",
       "      <td>VICTORIAN GLASS HANGING T-LIGHT</td>\n",
       "      <td>2</td>\n",
       "      <td>01/22/2019 09:41</td>\n",
       "      <td>2.46</td>\n",
       "      <td>NaN</td>\n",
       "    </tr>\n",
       "    <tr>\n",
       "      <th>517006</th>\n",
       "      <td>580025</td>\n",
       "      <td>22662</td>\n",
       "      <td>LUNCH BAG DOLLY GIRL DESIGN</td>\n",
       "      <td>1</td>\n",
       "      <td>11/29/2019 11:53</td>\n",
       "      <td>1.65</td>\n",
       "      <td>15021.0</td>\n",
       "    </tr>\n",
       "  </tbody>\n",
       "</table>\n",
       "</div>"
      ],
      "text/plain": [
       "       InvoiceNo StockCode                      Description  Quantity  \\\n",
       "540998    581492     22730       ALARM CLOCK BAKELIKE IVORY         1   \n",
       "242145    558315     22070  SMALL RED RETROSPOT MUG IN BOX          6   \n",
       "139046    548260     22995          TRAVEL CARD WALLET SUKI         2   \n",
       "196196    553831     23091       ZINC HERB GARDEN CONTAINER         3   \n",
       "46564     540355     22088      PAPER BUNTING COLOURED LACE         4   \n",
       "304770    563613     21245            GREEN POLKADOT PLATE         24   \n",
       "330560    565919     23198   PANTRY MAGNETIC  SHOPPING LIST         3   \n",
       "303604    563549     22309             TEA COSY RED  STRIPE         1   \n",
       "68672     541871     22178  VICTORIAN GLASS HANGING T-LIGHT         2   \n",
       "517006    580025     22662      LUNCH BAG DOLLY GIRL DESIGN         1   \n",
       "\n",
       "             InvoiceDate  UnitPrice  CustomerID  \n",
       "540998  12/07/2019 10:03       7.46         NaN  \n",
       "242145  06/26/2019 11:44       3.75     15065.0  \n",
       "139046  03/28/2019 11:18       0.42     15373.0  \n",
       "196196  05/17/2019 11:36       6.25     14442.0  \n",
       "46564   01/04/2019 15:11       4.21         NaN  \n",
       "304770  08/16/2019 08:49       1.69     12688.0  \n",
       "330560  09/05/2019 16:48       3.29         NaN  \n",
       "303604  08/15/2019 12:34       4.96         NaN  \n",
       "68672   01/22/2019 09:41       2.46         NaN  \n",
       "517006  11/29/2019 11:53       1.65     15021.0  "
      ]
     },
     "metadata": {},
     "output_type": "display_data"
    },
    {
     "name": "stdout",
     "output_type": "stream",
     "text": [
      "\n",
      "\u001b[1mGeneral info:\u001b[0m\n",
      "<class 'pandas.core.frame.DataFrame'>\n",
      "RangeIndex: 541909 entries, 0 to 541908\n",
      "Data columns (total 7 columns):\n",
      " #   Column       Non-Null Count   Dtype  \n",
      "---  ------       --------------   -----  \n",
      " 0   InvoiceNo    541909 non-null  object \n",
      " 1   StockCode    541909 non-null  object \n",
      " 2   Description  540455 non-null  object \n",
      " 3   Quantity     541909 non-null  int64  \n",
      " 4   InvoiceDate  541909 non-null  object \n",
      " 5   UnitPrice    541909 non-null  float64\n",
      " 6   CustomerID   406829 non-null  float64\n",
      "dtypes: float64(2), int64(1), object(4)\n",
      "memory usage: 28.9+ MB\n"
     ]
    },
    {
     "data": {
      "text/plain": [
       "None"
      ]
     },
     "metadata": {},
     "output_type": "display_data"
    },
    {
     "name": "stdout",
     "output_type": "stream",
     "text": [
      "\n",
      "\u001b[1mMissing values:\u001b[0m\n"
     ]
    },
    {
     "data": {
      "text/html": [
       "<style type=\"text/css\">\n",
       "</style>\n",
       "<table id=\"T_f55d5_\">\n",
       "  <thead>\n",
       "    <tr>\n",
       "      <th class=\"blank level0\" >&nbsp;</th>\n",
       "      <th class=\"col_heading level0 col0\" >missing</th>\n",
       "      <th class=\"col_heading level0 col1\" >total</th>\n",
       "      <th class=\"col_heading level0 col2\" >percent</th>\n",
       "    </tr>\n",
       "  </thead>\n",
       "  <tbody>\n",
       "    <tr>\n",
       "      <th id=\"T_f55d5_level0_row0\" class=\"row_heading level0 row0\" >CustomerID</th>\n",
       "      <td id=\"T_f55d5_row0_col0\" class=\"data row0 col0\" >135,080</td>\n",
       "      <td id=\"T_f55d5_row0_col1\" class=\"data row0 col1\" >541,909</td>\n",
       "      <td id=\"T_f55d5_row0_col2\" class=\"data row0 col2\" >24.93%</td>\n",
       "    </tr>\n",
       "    <tr>\n",
       "      <th id=\"T_f55d5_level0_row1\" class=\"row_heading level0 row1\" >Description</th>\n",
       "      <td id=\"T_f55d5_row1_col0\" class=\"data row1 col0\" >1,454</td>\n",
       "      <td id=\"T_f55d5_row1_col1\" class=\"data row1 col1\" >541,909</td>\n",
       "      <td id=\"T_f55d5_row1_col2\" class=\"data row1 col2\" >0.27%</td>\n",
       "    </tr>\n",
       "    <tr>\n",
       "      <th id=\"T_f55d5_level0_row2\" class=\"row_heading level0 row2\" >InvoiceNo</th>\n",
       "      <td id=\"T_f55d5_row2_col0\" class=\"data row2 col0\" >0</td>\n",
       "      <td id=\"T_f55d5_row2_col1\" class=\"data row2 col1\" >541,909</td>\n",
       "      <td id=\"T_f55d5_row2_col2\" class=\"data row2 col2\" >0.00%</td>\n",
       "    </tr>\n",
       "    <tr>\n",
       "      <th id=\"T_f55d5_level0_row3\" class=\"row_heading level0 row3\" >StockCode</th>\n",
       "      <td id=\"T_f55d5_row3_col0\" class=\"data row3 col0\" >0</td>\n",
       "      <td id=\"T_f55d5_row3_col1\" class=\"data row3 col1\" >541,909</td>\n",
       "      <td id=\"T_f55d5_row3_col2\" class=\"data row3 col2\" >0.00%</td>\n",
       "    </tr>\n",
       "    <tr>\n",
       "      <th id=\"T_f55d5_level0_row4\" class=\"row_heading level0 row4\" >Quantity</th>\n",
       "      <td id=\"T_f55d5_row4_col0\" class=\"data row4 col0\" >0</td>\n",
       "      <td id=\"T_f55d5_row4_col1\" class=\"data row4 col1\" >541,909</td>\n",
       "      <td id=\"T_f55d5_row4_col2\" class=\"data row4 col2\" >0.00%</td>\n",
       "    </tr>\n",
       "    <tr>\n",
       "      <th id=\"T_f55d5_level0_row5\" class=\"row_heading level0 row5\" >InvoiceDate</th>\n",
       "      <td id=\"T_f55d5_row5_col0\" class=\"data row5 col0\" >0</td>\n",
       "      <td id=\"T_f55d5_row5_col1\" class=\"data row5 col1\" >541,909</td>\n",
       "      <td id=\"T_f55d5_row5_col2\" class=\"data row5 col2\" >0.00%</td>\n",
       "    </tr>\n",
       "    <tr>\n",
       "      <th id=\"T_f55d5_level0_row6\" class=\"row_heading level0 row6\" >UnitPrice</th>\n",
       "      <td id=\"T_f55d5_row6_col0\" class=\"data row6 col0\" >0</td>\n",
       "      <td id=\"T_f55d5_row6_col1\" class=\"data row6 col1\" >541,909</td>\n",
       "      <td id=\"T_f55d5_row6_col2\" class=\"data row6 col2\" >0.00%</td>\n",
       "    </tr>\n",
       "  </tbody>\n",
       "</table>\n"
      ],
      "text/plain": [
       "<pandas.io.formats.style.Styler at 0x1deffccdc40>"
      ]
     },
     "metadata": {},
     "output_type": "display_data"
    },
    {
     "name": "stdout",
     "output_type": "stream",
     "text": [
      "\n",
      "\u001b[1mDuplicates:\u001b[0m\n",
      "Number of duplicates rows in the data is: 5268\n",
      "\n",
      "\u001b[1mBasic statistical information:\u001b[0m\n"
     ]
    },
    {
     "data": {
      "text/html": [
       "<div>\n",
       "<style scoped>\n",
       "    .dataframe tbody tr th:only-of-type {\n",
       "        vertical-align: middle;\n",
       "    }\n",
       "\n",
       "    .dataframe tbody tr th {\n",
       "        vertical-align: top;\n",
       "    }\n",
       "\n",
       "    .dataframe thead th {\n",
       "        text-align: right;\n",
       "    }\n",
       "</style>\n",
       "<table border=\"1\" class=\"dataframe\">\n",
       "  <thead>\n",
       "    <tr style=\"text-align: right;\">\n",
       "      <th></th>\n",
       "      <th>Quantity</th>\n",
       "      <th>UnitPrice</th>\n",
       "      <th>CustomerID</th>\n",
       "    </tr>\n",
       "  </thead>\n",
       "  <tbody>\n",
       "    <tr>\n",
       "      <th>count</th>\n",
       "      <td>541909.000000</td>\n",
       "      <td>541909.000000</td>\n",
       "      <td>406829.000000</td>\n",
       "    </tr>\n",
       "    <tr>\n",
       "      <th>mean</th>\n",
       "      <td>9.552250</td>\n",
       "      <td>4.611114</td>\n",
       "      <td>15287.690570</td>\n",
       "    </tr>\n",
       "    <tr>\n",
       "      <th>std</th>\n",
       "      <td>218.081158</td>\n",
       "      <td>96.759853</td>\n",
       "      <td>1713.600303</td>\n",
       "    </tr>\n",
       "    <tr>\n",
       "      <th>min</th>\n",
       "      <td>-80995.000000</td>\n",
       "      <td>-11062.060000</td>\n",
       "      <td>12346.000000</td>\n",
       "    </tr>\n",
       "    <tr>\n",
       "      <th>25%</th>\n",
       "      <td>1.000000</td>\n",
       "      <td>1.250000</td>\n",
       "      <td>13953.000000</td>\n",
       "    </tr>\n",
       "    <tr>\n",
       "      <th>50%</th>\n",
       "      <td>3.000000</td>\n",
       "      <td>2.080000</td>\n",
       "      <td>15152.000000</td>\n",
       "    </tr>\n",
       "    <tr>\n",
       "      <th>75%</th>\n",
       "      <td>10.000000</td>\n",
       "      <td>4.130000</td>\n",
       "      <td>16791.000000</td>\n",
       "    </tr>\n",
       "    <tr>\n",
       "      <th>max</th>\n",
       "      <td>80995.000000</td>\n",
       "      <td>38970.000000</td>\n",
       "      <td>18287.000000</td>\n",
       "    </tr>\n",
       "  </tbody>\n",
       "</table>\n",
       "</div>"
      ],
      "text/plain": [
       "            Quantity      UnitPrice     CustomerID\n",
       "count  541909.000000  541909.000000  406829.000000\n",
       "mean        9.552250       4.611114   15287.690570\n",
       "std       218.081158      96.759853    1713.600303\n",
       "min    -80995.000000  -11062.060000   12346.000000\n",
       "25%         1.000000       1.250000   13953.000000\n",
       "50%         3.000000       2.080000   15152.000000\n",
       "75%        10.000000       4.130000   16791.000000\n",
       "max     80995.000000   38970.000000   18287.000000"
      ]
     },
     "metadata": {},
     "output_type": "display_data"
    }
   ],
   "source": [
    "study_general_info(ecommerce_data)"
   ]
  },
  {
   "cell_type": "markdown",
   "id": "72572730",
   "metadata": {},
   "source": [
    "Upon reviewing the general information of `ecommerce_data`, several issues immediately come to mind:\n",
    "\n",
    "- The columns' names do not comply with Python programming convention.\n",
    "\n",
    "\n",
    "- `InvoiceDate` column's data type should be DateTime instead of an object.\n",
    "\n",
    "\n",
    "- There are a lot of missing values in the 'CustomerId' and some in the 'Description' columns.\n",
    "\n",
    "\n",
    "- There are 5,268 duplicates in the data.\n",
    "\n",
    "\n",
    "- There are negative values in columns `Quantity` and `UnitPrice`, probably due to a technical issue. Moreover, based on the info provided by the describe() method, we can tell that there are outliers in these columns as well.\n",
    "\n",
    "We'll address those issues in the next part of our analysis."
   ]
  },
  {
   "cell_type": "markdown",
   "id": "2d723233",
   "metadata": {},
   "source": [
    "## Data preprocessing."
   ]
  },
  {
   "cell_type": "markdown",
   "id": "fbb8b895",
   "metadata": {},
   "source": [
    "<a class=\"anchor\" id=\"pre\"></a>\n",
    "[Go back to the Table of Contents](#table_of_contents)"
   ]
  },
  {
   "cell_type": "markdown",
   "id": "3a10f253",
   "metadata": {},
   "source": [
    "First of all, let's rename `ecommerce_data` columns so they would comply with Python programming conventions:"
   ]
  },
  {
   "cell_type": "code",
   "execution_count": 7,
   "id": "e884c1de",
   "metadata": {},
   "outputs": [],
   "source": [
    "ecommerce_data.columns = ['invoice_no', 'stock_code', 'description', 'quantity',\n",
    "                          'invoice_date', 'unit_price', 'customer_id']"
   ]
  },
  {
   "cell_type": "markdown",
   "id": "c9af3ffd",
   "metadata": {},
   "source": [
    "Second, we'll convert the data types of the `invoice_date` column:"
   ]
  },
  {
   "cell_type": "code",
   "execution_count": 8,
   "id": "6a0c709d",
   "metadata": {},
   "outputs": [],
   "source": [
    "# conver the `invoice_date` column to datetime data type\n",
    "ecommerce_data['invoice_date'] = ecommerce_data['invoice_date'].astype('datetime64')"
   ]
  },
  {
   "cell_type": "markdown",
   "id": "cbddb25d",
   "metadata": {},
   "source": [
    "Next, we'll deal with the missing values in columns `customer_id` and `description`.\n",
    "\n",
    "Earlier, we found 1,454 missing values in the `description` column which account for less than 0.3% of the data.\n",
    "\n",
    "Potentially, we could try to fill those missing values by using values in `stock_code` (for each row with missing value in `description`, look for a rows with matching `stock_code` and take the description value with most instances).\n",
    "\n",
    "But, since the share of those missing values is very small, we'll simply drop the rows with the missing values in `description` from the data.\n",
    "\n",
    "With `customer_id` column, we got a different story, almost a quarter of the values in this columns are missing. In this case, we don't see a pattern or dependence on other columns that might provide a hint to fill in those missing values. \n",
    "\n",
    "So, we'll fill the missing values with 'unknown'."
   ]
  },
  {
   "cell_type": "code",
   "execution_count": 9,
   "id": "c1adbb8b",
   "metadata": {},
   "outputs": [],
   "source": [
    "# drop rows with missing values in `description` from the data\n",
    "ecommerce_data.dropna(subset=['description'], inplace=True)\n",
    "\n",
    "# reset the index\n",
    "ecommerce_data.reset_index(drop=True, inplace=True)\n",
    "\n",
    "# fill missing values in `customer_id` with 'unknown'\n",
    "ecommerce_data['customer_id'].fillna('unknown', inplace=True)"
   ]
  },
  {
   "cell_type": "markdown",
   "id": "311f44e2",
   "metadata": {},
   "source": [
    "Now, let's deal with the duplicates found in the data:\n",
    "\n",
    "Before, we delete the duplicates, let's investigate them a little bit."
   ]
  },
  {
   "cell_type": "code",
   "execution_count": 10,
   "id": "8dff8e03",
   "metadata": {},
   "outputs": [
    {
     "data": {
      "text/html": [
       "<div>\n",
       "<style scoped>\n",
       "    .dataframe tbody tr th:only-of-type {\n",
       "        vertical-align: middle;\n",
       "    }\n",
       "\n",
       "    .dataframe tbody tr th {\n",
       "        vertical-align: top;\n",
       "    }\n",
       "\n",
       "    .dataframe thead th {\n",
       "        text-align: right;\n",
       "    }\n",
       "</style>\n",
       "<table border=\"1\" class=\"dataframe\">\n",
       "  <thead>\n",
       "    <tr style=\"text-align: right;\">\n",
       "      <th></th>\n",
       "      <th>invoice_no</th>\n",
       "      <th>stock_code</th>\n",
       "      <th>description</th>\n",
       "      <th>quantity</th>\n",
       "      <th>invoice_date</th>\n",
       "      <th>unit_price</th>\n",
       "      <th>customer_id</th>\n",
       "    </tr>\n",
       "  </thead>\n",
       "  <tbody>\n",
       "    <tr>\n",
       "      <th>517</th>\n",
       "      <td>536409</td>\n",
       "      <td>21866</td>\n",
       "      <td>UNION JACK FLAG LUGGAGE TAG</td>\n",
       "      <td>1</td>\n",
       "      <td>2018-11-29 11:45:00</td>\n",
       "      <td>1.25</td>\n",
       "      <td>17908.0</td>\n",
       "    </tr>\n",
       "    <tr>\n",
       "      <th>527</th>\n",
       "      <td>536409</td>\n",
       "      <td>22866</td>\n",
       "      <td>HAND WARMER SCOTTY DOG DESIGN</td>\n",
       "      <td>1</td>\n",
       "      <td>2018-11-29 11:45:00</td>\n",
       "      <td>2.10</td>\n",
       "      <td>17908.0</td>\n",
       "    </tr>\n",
       "    <tr>\n",
       "      <th>537</th>\n",
       "      <td>536409</td>\n",
       "      <td>22900</td>\n",
       "      <td>SET 2 TEA TOWELS I LOVE LONDON</td>\n",
       "      <td>1</td>\n",
       "      <td>2018-11-29 11:45:00</td>\n",
       "      <td>2.95</td>\n",
       "      <td>17908.0</td>\n",
       "    </tr>\n",
       "    <tr>\n",
       "      <th>539</th>\n",
       "      <td>536409</td>\n",
       "      <td>22111</td>\n",
       "      <td>SCOTTIE DOG HOT WATER BOTTLE</td>\n",
       "      <td>1</td>\n",
       "      <td>2018-11-29 11:45:00</td>\n",
       "      <td>4.95</td>\n",
       "      <td>17908.0</td>\n",
       "    </tr>\n",
       "    <tr>\n",
       "      <th>555</th>\n",
       "      <td>536412</td>\n",
       "      <td>22327</td>\n",
       "      <td>ROUND SNACK BOXES SET OF 4 SKULLS</td>\n",
       "      <td>1</td>\n",
       "      <td>2018-11-29 11:49:00</td>\n",
       "      <td>2.95</td>\n",
       "      <td>17920.0</td>\n",
       "    </tr>\n",
       "    <tr>\n",
       "      <th>587</th>\n",
       "      <td>536412</td>\n",
       "      <td>22273</td>\n",
       "      <td>FELTCRAFT DOLL MOLLY</td>\n",
       "      <td>1</td>\n",
       "      <td>2018-11-29 11:49:00</td>\n",
       "      <td>2.95</td>\n",
       "      <td>17920.0</td>\n",
       "    </tr>\n",
       "    <tr>\n",
       "      <th>589</th>\n",
       "      <td>536412</td>\n",
       "      <td>22749</td>\n",
       "      <td>FELTCRAFT PRINCESS CHARLOTTE DOLL</td>\n",
       "      <td>1</td>\n",
       "      <td>2018-11-29 11:49:00</td>\n",
       "      <td>3.75</td>\n",
       "      <td>17920.0</td>\n",
       "    </tr>\n",
       "    <tr>\n",
       "      <th>594</th>\n",
       "      <td>536412</td>\n",
       "      <td>22141</td>\n",
       "      <td>CHRISTMAS CRAFT TREE TOP ANGEL</td>\n",
       "      <td>1</td>\n",
       "      <td>2018-11-29 11:49:00</td>\n",
       "      <td>2.10</td>\n",
       "      <td>17920.0</td>\n",
       "    </tr>\n",
       "    <tr>\n",
       "      <th>598</th>\n",
       "      <td>536412</td>\n",
       "      <td>21448</td>\n",
       "      <td>12 DAISY PEGS IN WOOD BOX</td>\n",
       "      <td>1</td>\n",
       "      <td>2018-11-29 11:49:00</td>\n",
       "      <td>1.65</td>\n",
       "      <td>17920.0</td>\n",
       "    </tr>\n",
       "    <tr>\n",
       "      <th>600</th>\n",
       "      <td>536412</td>\n",
       "      <td>22569</td>\n",
       "      <td>FELTCRAFT CUSHION BUTTERFLY</td>\n",
       "      <td>2</td>\n",
       "      <td>2018-11-29 11:49:00</td>\n",
       "      <td>3.75</td>\n",
       "      <td>17920.0</td>\n",
       "    </tr>\n",
       "  </tbody>\n",
       "</table>\n",
       "</div>"
      ],
      "text/plain": [
       "    invoice_no stock_code                        description  quantity  \\\n",
       "517     536409      21866        UNION JACK FLAG LUGGAGE TAG         1   \n",
       "527     536409      22866      HAND WARMER SCOTTY DOG DESIGN         1   \n",
       "537     536409      22900    SET 2 TEA TOWELS I LOVE LONDON          1   \n",
       "539     536409      22111       SCOTTIE DOG HOT WATER BOTTLE         1   \n",
       "555     536412      22327  ROUND SNACK BOXES SET OF 4 SKULLS         1   \n",
       "587     536412      22273               FELTCRAFT DOLL MOLLY         1   \n",
       "589     536412      22749  FELTCRAFT PRINCESS CHARLOTTE DOLL         1   \n",
       "594     536412      22141     CHRISTMAS CRAFT TREE TOP ANGEL         1   \n",
       "598     536412      21448          12 DAISY PEGS IN WOOD BOX         1   \n",
       "600     536412      22569        FELTCRAFT CUSHION BUTTERFLY         2   \n",
       "\n",
       "           invoice_date  unit_price customer_id  \n",
       "517 2018-11-29 11:45:00        1.25     17908.0  \n",
       "527 2018-11-29 11:45:00        2.10     17908.0  \n",
       "537 2018-11-29 11:45:00        2.95     17908.0  \n",
       "539 2018-11-29 11:45:00        4.95     17908.0  \n",
       "555 2018-11-29 11:49:00        2.95     17920.0  \n",
       "587 2018-11-29 11:49:00        2.95     17920.0  \n",
       "589 2018-11-29 11:49:00        3.75     17920.0  \n",
       "594 2018-11-29 11:49:00        2.10     17920.0  \n",
       "598 2018-11-29 11:49:00        1.65     17920.0  \n",
       "600 2018-11-29 11:49:00        3.75     17920.0  "
      ]
     },
     "execution_count": 10,
     "metadata": {},
     "output_type": "execute_result"
    }
   ],
   "source": [
    "# print the first 10 duplicated rows\n",
    "ecommerce_data[ecommerce_data.duplicated()].head(10)"
   ]
  },
  {
   "cell_type": "markdown",
   "id": "95b2dd2e",
   "metadata": {},
   "source": [
    "Interesting, these rows aren't actually duplicates. Yes, some rows have identical values, but only in columns where it makes sense, such as `invoice_no`, `invoice_date`, and `customer_id`.\n",
    "\n",
    "The other columns have different values, so we cannot treat these rows as duplicates, so we'll leave them as they are."
   ]
  },
  {
   "cell_type": "markdown",
   "id": "da80616a",
   "metadata": {},
   "source": [
    "Last, we'll deal with the negative values from *quantity*, and *unit_price*.\n",
    "\n",
    "Obviously, these negative values aren't possible. A quantity or price cannot be negative. There has probably been a mistake during input or preprocessing of the data, and these values should be positive (the absolute value of each negative value).\n",
    "\n",
    "Before we take any action, let's investigate these values:"
   ]
  },
  {
   "cell_type": "code",
   "execution_count": 11,
   "id": "27887f49",
   "metadata": {},
   "outputs": [
    {
     "data": {
      "text/html": [
       "<div>\n",
       "<style scoped>\n",
       "    .dataframe tbody tr th:only-of-type {\n",
       "        vertical-align: middle;\n",
       "    }\n",
       "\n",
       "    .dataframe tbody tr th {\n",
       "        vertical-align: top;\n",
       "    }\n",
       "\n",
       "    .dataframe thead th {\n",
       "        text-align: right;\n",
       "    }\n",
       "</style>\n",
       "<table border=\"1\" class=\"dataframe\">\n",
       "  <thead>\n",
       "    <tr style=\"text-align: right;\">\n",
       "      <th></th>\n",
       "      <th>invoice_no</th>\n",
       "      <th>stock_code</th>\n",
       "      <th>description</th>\n",
       "      <th>quantity</th>\n",
       "      <th>invoice_date</th>\n",
       "      <th>unit_price</th>\n",
       "      <th>customer_id</th>\n",
       "    </tr>\n",
       "  </thead>\n",
       "  <tbody>\n",
       "    <tr>\n",
       "      <th>298874</th>\n",
       "      <td>A563186</td>\n",
       "      <td>B</td>\n",
       "      <td>Adjust bad debt</td>\n",
       "      <td>1</td>\n",
       "      <td>2019-08-10 14:51:00</td>\n",
       "      <td>-11062.06</td>\n",
       "      <td>unknown</td>\n",
       "    </tr>\n",
       "    <tr>\n",
       "      <th>298875</th>\n",
       "      <td>A563187</td>\n",
       "      <td>B</td>\n",
       "      <td>Adjust bad debt</td>\n",
       "      <td>1</td>\n",
       "      <td>2019-08-10 14:52:00</td>\n",
       "      <td>-11062.06</td>\n",
       "      <td>unknown</td>\n",
       "    </tr>\n",
       "  </tbody>\n",
       "</table>\n",
       "</div>"
      ],
      "text/plain": [
       "       invoice_no stock_code      description  quantity        invoice_date  \\\n",
       "298874    A563186          B  Adjust bad debt         1 2019-08-10 14:51:00   \n",
       "298875    A563187          B  Adjust bad debt         1 2019-08-10 14:52:00   \n",
       "\n",
       "        unit_price customer_id  \n",
       "298874   -11062.06     unknown  \n",
       "298875   -11062.06     unknown  "
      ]
     },
     "metadata": {},
     "output_type": "display_data"
    },
    {
     "data": {
      "text/html": [
       "<div>\n",
       "<style scoped>\n",
       "    .dataframe tbody tr th:only-of-type {\n",
       "        vertical-align: middle;\n",
       "    }\n",
       "\n",
       "    .dataframe tbody tr th {\n",
       "        vertical-align: top;\n",
       "    }\n",
       "\n",
       "    .dataframe thead th {\n",
       "        text-align: right;\n",
       "    }\n",
       "</style>\n",
       "<table border=\"1\" class=\"dataframe\">\n",
       "  <thead>\n",
       "    <tr style=\"text-align: right;\">\n",
       "      <th></th>\n",
       "      <th>invoice_no</th>\n",
       "      <th>stock_code</th>\n",
       "      <th>description</th>\n",
       "      <th>quantity</th>\n",
       "      <th>invoice_date</th>\n",
       "      <th>unit_price</th>\n",
       "      <th>customer_id</th>\n",
       "    </tr>\n",
       "  </thead>\n",
       "  <tbody>\n",
       "    <tr>\n",
       "      <th>141</th>\n",
       "      <td>C536379</td>\n",
       "      <td>D</td>\n",
       "      <td>Discount</td>\n",
       "      <td>-1</td>\n",
       "      <td>2018-11-29 09:41:00</td>\n",
       "      <td>27.50</td>\n",
       "      <td>14527.0</td>\n",
       "    </tr>\n",
       "    <tr>\n",
       "      <th>154</th>\n",
       "      <td>C536383</td>\n",
       "      <td>35004C</td>\n",
       "      <td>SET OF 3 COLOURED  FLYING DUCKS</td>\n",
       "      <td>-1</td>\n",
       "      <td>2018-11-29 09:49:00</td>\n",
       "      <td>4.65</td>\n",
       "      <td>15311.0</td>\n",
       "    </tr>\n",
       "    <tr>\n",
       "      <th>235</th>\n",
       "      <td>C536391</td>\n",
       "      <td>22556</td>\n",
       "      <td>PLASTERS IN TIN CIRCUS PARADE</td>\n",
       "      <td>-12</td>\n",
       "      <td>2018-11-29 10:24:00</td>\n",
       "      <td>1.65</td>\n",
       "      <td>17548.0</td>\n",
       "    </tr>\n",
       "    <tr>\n",
       "      <th>236</th>\n",
       "      <td>C536391</td>\n",
       "      <td>21984</td>\n",
       "      <td>PACK OF 12 PINK PAISLEY TISSUES</td>\n",
       "      <td>-24</td>\n",
       "      <td>2018-11-29 10:24:00</td>\n",
       "      <td>0.29</td>\n",
       "      <td>17548.0</td>\n",
       "    </tr>\n",
       "    <tr>\n",
       "      <th>237</th>\n",
       "      <td>C536391</td>\n",
       "      <td>21983</td>\n",
       "      <td>PACK OF 12 BLUE PAISLEY TISSUES</td>\n",
       "      <td>-24</td>\n",
       "      <td>2018-11-29 10:24:00</td>\n",
       "      <td>0.29</td>\n",
       "      <td>17548.0</td>\n",
       "    </tr>\n",
       "    <tr>\n",
       "      <th>...</th>\n",
       "      <td>...</td>\n",
       "      <td>...</td>\n",
       "      <td>...</td>\n",
       "      <td>...</td>\n",
       "      <td>...</td>\n",
       "      <td>...</td>\n",
       "      <td>...</td>\n",
       "    </tr>\n",
       "    <tr>\n",
       "      <th>538995</th>\n",
       "      <td>C581490</td>\n",
       "      <td>23144</td>\n",
       "      <td>ZINC T-LIGHT HOLDER STARS SMALL</td>\n",
       "      <td>-11</td>\n",
       "      <td>2019-12-07 09:57:00</td>\n",
       "      <td>0.83</td>\n",
       "      <td>14397.0</td>\n",
       "    </tr>\n",
       "    <tr>\n",
       "      <th>540087</th>\n",
       "      <td>C581499</td>\n",
       "      <td>M</td>\n",
       "      <td>Manual</td>\n",
       "      <td>-1</td>\n",
       "      <td>2019-12-07 10:28:00</td>\n",
       "      <td>224.69</td>\n",
       "      <td>15498.0</td>\n",
       "    </tr>\n",
       "    <tr>\n",
       "      <th>540261</th>\n",
       "      <td>C581568</td>\n",
       "      <td>21258</td>\n",
       "      <td>VICTORIAN SEWING BOX LARGE</td>\n",
       "      <td>-5</td>\n",
       "      <td>2019-12-07 11:57:00</td>\n",
       "      <td>10.95</td>\n",
       "      <td>15311.0</td>\n",
       "    </tr>\n",
       "    <tr>\n",
       "      <th>540262</th>\n",
       "      <td>C581569</td>\n",
       "      <td>84978</td>\n",
       "      <td>HANGING HEART JAR T-LIGHT HOLDER</td>\n",
       "      <td>-1</td>\n",
       "      <td>2019-12-07 11:58:00</td>\n",
       "      <td>1.25</td>\n",
       "      <td>17315.0</td>\n",
       "    </tr>\n",
       "    <tr>\n",
       "      <th>540263</th>\n",
       "      <td>C581569</td>\n",
       "      <td>20979</td>\n",
       "      <td>36 PENCILS TUBE RED RETROSPOT</td>\n",
       "      <td>-5</td>\n",
       "      <td>2019-12-07 11:58:00</td>\n",
       "      <td>1.25</td>\n",
       "      <td>17315.0</td>\n",
       "    </tr>\n",
       "  </tbody>\n",
       "</table>\n",
       "<p>9762 rows × 7 columns</p>\n",
       "</div>"
      ],
      "text/plain": [
       "       invoice_no stock_code                       description  quantity  \\\n",
       "141       C536379          D                          Discount        -1   \n",
       "154       C536383     35004C   SET OF 3 COLOURED  FLYING DUCKS        -1   \n",
       "235       C536391      22556    PLASTERS IN TIN CIRCUS PARADE        -12   \n",
       "236       C536391      21984  PACK OF 12 PINK PAISLEY TISSUES        -24   \n",
       "237       C536391      21983  PACK OF 12 BLUE PAISLEY TISSUES        -24   \n",
       "...           ...        ...                               ...       ...   \n",
       "538995    C581490      23144   ZINC T-LIGHT HOLDER STARS SMALL       -11   \n",
       "540087    C581499          M                            Manual        -1   \n",
       "540261    C581568      21258        VICTORIAN SEWING BOX LARGE        -5   \n",
       "540262    C581569      84978  HANGING HEART JAR T-LIGHT HOLDER        -1   \n",
       "540263    C581569      20979     36 PENCILS TUBE RED RETROSPOT        -5   \n",
       "\n",
       "              invoice_date  unit_price customer_id  \n",
       "141    2018-11-29 09:41:00       27.50     14527.0  \n",
       "154    2018-11-29 09:49:00        4.65     15311.0  \n",
       "235    2018-11-29 10:24:00        1.65     17548.0  \n",
       "236    2018-11-29 10:24:00        0.29     17548.0  \n",
       "237    2018-11-29 10:24:00        0.29     17548.0  \n",
       "...                    ...         ...         ...  \n",
       "538995 2019-12-07 09:57:00        0.83     14397.0  \n",
       "540087 2019-12-07 10:28:00      224.69     15498.0  \n",
       "540261 2019-12-07 11:57:00       10.95     15311.0  \n",
       "540262 2019-12-07 11:58:00        1.25     17315.0  \n",
       "540263 2019-12-07 11:58:00        1.25     17315.0  \n",
       "\n",
       "[9762 rows x 7 columns]"
      ]
     },
     "metadata": {},
     "output_type": "display_data"
    }
   ],
   "source": [
    "# print all the rows where `unit_price` is negative\n",
    "display(ecommerce_data[(ecommerce_data['unit_price'] < 0)])\n",
    "\n",
    "# print all the rows where `quantity` is negative\n",
    "display(ecommerce_data[(ecommerce_data['quantity'] < 0)])"
   ]
  },
  {
   "cell_type": "markdown",
   "id": "47473e5d",
   "metadata": {},
   "source": [
    "Notice, that all the rows with the negative values in `quantity`/`unit_price` contain a letter in the `invoice_no` value.\n",
    "\n",
    "- For rows with negative values in `quantity` there is a 'C' letter before the numbers in `invoice_no`. Perhaps this 'C' stands for orders that were canceled, that would explain the negative value in quantity, because the products were returned.\n",
    "\n",
    "- For rows with negative values in `quantity` there is a 'A' letter before the numbers in `invoice_no`, and the description values are 'Adjust bad debt'.\n",
    "\n",
    "Investigating these negative values, we realize they aren't a technical error, but a way to mark order cancellations and adjustments. Since we are only interested in products that were sold, we will drop these rows from our analysis.  "
   ]
  },
  {
   "cell_type": "code",
   "execution_count": 12,
   "id": "d9b7366c",
   "metadata": {},
   "outputs": [],
   "source": [
    "ecommerce_data = ecommerce_data.loc[\n",
    "        (ecommerce_data['quantity'] > 0) & (ecommerce_data['unit_price'] > 0)].reset_index(drop=True)"
   ]
  },
  {
   "cell_type": "markdown",
   "id": "a138ab98",
   "metadata": {},
   "source": [
    "### Conclusion"
   ]
  },
  {
   "cell_type": "markdown",
   "id": "e8d5b42f",
   "metadata": {},
   "source": [
    "In conclusion, upon reviewing the general information of ecommerce_data, we found several issues that needed to be addressed.\n",
    "\n",
    "So at this step, we done the following:\n",
    "- Changed the columns' names so they'll comply with Python programming convention.\n",
    "\n",
    "\n",
    "- `InvoiceDate` column's data type was coverted from `object` to `datetime`.\n",
    "\n",
    "\n",
    "- We dropped the rows with missing values in `description`.\n",
    "\n",
    "\n",
    "- Filled the missing values in `customer_id` with the value 'unknown'.\n",
    "\n",
    "\n",
    "- We dropped the rows with the negative values in columns `quantity`, and `unit_price`. These rows probably represented orders' cancellations/adjustments that aren't relevant to our analysis.\n",
    "\n",
    "A probable explanation for these issues is that something went wrong during the input/preprocess of the data."
   ]
  },
  {
   "cell_type": "markdown",
   "id": "85cbfa0a",
   "metadata": {},
   "source": [
    "## Exploratory data analysis"
   ]
  },
  {
   "cell_type": "markdown",
   "id": "33a95f7f",
   "metadata": {},
   "source": [
    "<a class=\"anchor\" id=\"eda\"></a>\n",
    "[Go back to the Table of Contents](#table_of_contents)"
   ]
  },
  {
   "cell_type": "markdown",
   "id": "54848abb",
   "metadata": {},
   "source": [
    "In this step, we'll investigate the data further, ask questions, and plot graphs. We do this to better understand the data in front of us and to generate initial hypotheses."
   ]
  },
  {
   "cell_type": "markdown",
   "id": "a5ce0205",
   "metadata": {},
   "source": [
    "### Study the distributions of the numerical data, plot histograms for Quantity, and UnitPrice. Are there outliers or anomalies in the data?"
   ]
  },
  {
   "cell_type": "markdown",
   "id": "5b9c9f46",
   "metadata": {},
   "source": [
    "First, let's write a function to automate the process of plotting a histogram:"
   ]
  },
  {
   "cell_type": "code",
   "execution_count": 13,
   "id": "5b86a3ff",
   "metadata": {},
   "outputs": [],
   "source": [
    "def plot_hist(dataframe, column):\n",
    "    '''\n",
    "    This function plot a frequency histogram \n",
    "    of a column of choice in a data frame.\n",
    "    \n",
    "    @param dataframe: The dataframe from which we want to plot the histogram.\n",
    "    @param column: The column for the x axis of the histogram.\n",
    "    \n",
    "    @return: does not return anything, instead, plot a histogram.\n",
    "    '''\n",
    "    # plot a histogram using plotly express library\n",
    "    fig = px.histogram(dataframe, x=column)\n",
    "\n",
    "    # set title and x/y labels\n",
    "    fig.update_layout(\n",
    "        title= 'Distribution of ' + column,\n",
    "        xaxis_title= column,\n",
    "        yaxis_title= 'Frequency')\n",
    "    fig.show()"
   ]
  },
  {
   "cell_type": "markdown",
   "id": "a87c8662",
   "metadata": {},
   "source": [
    "Let's plot distribution histograms for `quantity` and `unit_price`:"
   ]
  },
  {
   "cell_type": "code",
   "execution_count": null,
   "id": "d56610c2",
   "metadata": {},
   "outputs": [],
   "source": [
    "# call plot_hist function on `quantity`\n",
    "plot_hist(ecommerce_data, 'quantity')"
   ]
  },
  {
   "cell_type": "code",
   "execution_count": null,
   "id": "871343d6",
   "metadata": {
    "scrolled": false
   },
   "outputs": [],
   "source": [
    "# call plot_hist function on `unit_price`\n",
    "plot_hist(ecommerce_data, 'unit_price')"
   ]
  },
  {
   "cell_type": "markdown",
   "id": "82b9f1b6",
   "metadata": {},
   "source": [
    "Both distributions are heavily right skewed, we can see outliers on each distribution. Perhaps, these orders are commercial orders, and that's why they seem ridiculous for one person to buy.\n",
    "\n",
    "For more informative insights, we will have to filter out these outliers, then plot the histograms again."
   ]
  },
  {
   "cell_type": "markdown",
   "id": "92257ec4",
   "metadata": {},
   "source": [
    "Let's write a function to determine outliers limits in a column:"
   ]
  },
  {
   "cell_type": "code",
   "execution_count": 16,
   "id": "3bede9ed",
   "metadata": {},
   "outputs": [],
   "source": [
    "def determine_outliers(column):\n",
    "    '''\n",
    "    This function calculate the outliers' limits of a column.\n",
    "    The calculation is based on the formulas (Q1 - 1.5 * IQR), and (Q3 + 1.5 * IQR).\n",
    "    \n",
    "    @param column: The column from which we want to calculate outliers' limits\n",
    "\n",
    "    @return: return lower and upper limits\n",
    "    '''\n",
    "    Q1, Q3 = np.percentile(column, [25,75])\n",
    "    IQR = Q3 - Q1\n",
    "    lower_lim = Q1 - (1.5 * IQR)\n",
    "    upper_lim = Q3 + (1.5 * IQR)\n",
    "    \n",
    "    return lower_lim, upper_lim"
   ]
  },
  {
   "cell_type": "markdown",
   "id": "3a0621a3",
   "metadata": {},
   "source": [
    "Now, let's use the function to filter the outliers out of the data:"
   ]
  },
  {
   "cell_type": "code",
   "execution_count": 17,
   "id": "56a8f3f3",
   "metadata": {},
   "outputs": [],
   "source": [
    "# list of columns we suspected to contain outliers\n",
    "columns_with_outliers = ['quantity', 'unit_price']\n",
    "\n",
    "# create a new df\n",
    "filtered_ecommerce_data = ecommerce_data\n",
    "\n",
    "# loop through each 'suspected' column and set limits with the function 'determine_outliers'\n",
    "# then filter the dataframe with each tuple of limits for each feature\n",
    "\n",
    "for column in columns_with_outliers:\n",
    "    # set limits\n",
    "    limits = determine_outliers(filtered_ecommerce_data[column])\n",
    "    # apply filters\n",
    "    filtered_ecommerce_data = filtered_ecommerce_data.loc[\n",
    "        (filtered_ecommerce_data[column] >= limits[0]) & (filtered_ecommerce_data[column] <= limits[1])].reset_index(drop=True)"
   ]
  },
  {
   "cell_type": "markdown",
   "id": "976f3be5",
   "metadata": {},
   "source": [
    "Let's calculate how much data we lost after the filtering:"
   ]
  },
  {
   "cell_type": "code",
   "execution_count": 18,
   "id": "ba880a9e",
   "metadata": {},
   "outputs": [
    {
     "name": "stdout",
     "output_type": "stream",
     "text": [
      "Percentage of data lost after removing outliers: 16.49%\n"
     ]
    }
   ],
   "source": [
    "print('Percentage of data lost after removing outliers: {:.2%}'.format(1 - (len(filtered_ecommerce_data)/len(ecommerce_data))))"
   ]
  },
  {
   "cell_type": "markdown",
   "id": "e2beeebd",
   "metadata": {},
   "source": [
    "We lost 16.49% of our data. It's a significant amount but, if we kept those outliers they would skew our result significantly.\n",
    "\n",
    "If our assumption before is correct (outliers are commercial orders), then they wouldn't benefit us anyway, since we are focusing on 'normal' orders."
   ]
  },
  {
   "cell_type": "markdown",
   "id": "baf76af3",
   "metadata": {},
   "source": [
    "Next, let's plot the histograms again, now with the filtered data:"
   ]
  },
  {
   "cell_type": "code",
   "execution_count": null,
   "id": "0d5a4cba",
   "metadata": {
    "scrolled": false
   },
   "outputs": [],
   "source": [
    "# call plot_hist function on `quantity`\n",
    "plot_hist(filtered_ecommerce_data, 'quantity')"
   ]
  },
  {
   "cell_type": "markdown",
   "id": "ad841c19",
   "metadata": {},
   "source": [
    "**Conclusions from the `quantity` histogram:**\n",
    "- The distribution of quantity is still right-skewed, but not as extreme as before the filtering.\n",
    "\n",
    "\n",
    "- The most frequent quantity is '1' with almost 130K instances.\n",
    "\n",
    "\n",
    "- Even numbers of quantity have significantly more instances than odd numbers. This can be contributed to sales/discounts. Sales/discounts will likely include an even number of products rather than odd."
   ]
  },
  {
   "cell_type": "code",
   "execution_count": null,
   "id": "4d6e8377",
   "metadata": {},
   "outputs": [],
   "source": [
    "# call plot_hist function on `unit_price`\n",
    "plot_hist(filtered_ecommerce_data, 'unit_price')"
   ]
  },
  {
   "cell_type": "markdown",
   "id": "cafc9e61",
   "metadata": {},
   "source": [
    "**Conclusions from the `unit_price` histogram:**\n",
    "\n",
    "- The distribution of unit prices is still right-skewed, but not as extreme as before the filtering.\n",
    "\n",
    "\n",
    "- A unit's price range is between 0.08 to 8.5.\n",
    "\n",
    "\n",
    "- Customers tend to buy relatively cheap (price between 0.08 to 4) products than the pricer ones (5 to 8)."
   ]
  },
  {
   "cell_type": "markdown",
   "id": "e8aff1fb",
   "metadata": {},
   "source": [
    "### When do people most often purchase online?"
   ]
  },
  {
   "cell_type": "markdown",
   "id": "01be45ef",
   "metadata": {},
   "source": [
    "Let's plot a histogram to investigate the distribution of orders in terms of dates:"
   ]
  },
  {
   "cell_type": "code",
   "execution_count": null,
   "id": "81dcef12",
   "metadata": {},
   "outputs": [],
   "source": [
    "plot_hist(filtered_ecommerce_data, 'invoice_date')"
   ]
  },
  {
   "cell_type": "markdown",
   "id": "af0fbf1b",
   "metadata": {},
   "source": [
    "**Conclusions from the `unit_price` histogram:**\n",
    "- The most active period for orders was September to December, the Autumn season (if we're talking about the Northern Hemisphere). Compared to the rest of the year, we notice a significant increase in orders during these months.\n",
    "\n",
    "\n",
    "- There is a gap between December 23 and January 1, when no orders were placed. There is a possibility that the owners of the store decided to take a Christmas and New Year's Eve vacation, which would prevent the store from accepting orders.\n",
    "\n",
    "In the autumn, we have big sales events in the ecommerce sector, such as Black Friday, Cyber Monday, holiday sales and so on. Consequently, our store is busier in the Autumn as well."
   ]
  },
  {
   "cell_type": "markdown",
   "id": "deb27d09",
   "metadata": {},
   "source": [
    "Next, what time of day do people buy more often? let's plot a histogram to show the distribution:"
   ]
  },
  {
   "cell_type": "code",
   "execution_count": null,
   "id": "932101a5",
   "metadata": {},
   "outputs": [],
   "source": [
    "# create a new column to contain the hour of the day value for each order\n",
    "filtered_ecommerce_data['hour_of_day'] = filtered_ecommerce_data['invoice_date'].dt.hour\n",
    "\n",
    "# plot a histogram\n",
    "plot_hist(filtered_ecommerce_data, 'hour_of_day')"
   ]
  },
  {
   "cell_type": "markdown",
   "id": "f0507749",
   "metadata": {},
   "source": [
    "The majority of online orders occur between 12pm and 3pm, during lunchtime."
   ]
  },
  {
   "cell_type": "markdown",
   "id": "a39bc2e3",
   "metadata": {},
   "source": [
    "### How many items does a customer purchase per order?"
   ]
  },
  {
   "cell_type": "markdown",
   "id": "a463b593",
   "metadata": {},
   "source": [
    "Let's plot a histogram of the items per order distribution:"
   ]
  },
  {
   "cell_type": "code",
   "execution_count": 23,
   "id": "73a98c7a",
   "metadata": {},
   "outputs": [],
   "source": [
    "# aggregate thr number of items per order\n",
    "items_per_order = filtered_ecommerce_data.groupby('invoice_no', as_index=False)['quantity'].sum()"
   ]
  },
  {
   "cell_type": "code",
   "execution_count": 24,
   "id": "93b32f68",
   "metadata": {},
   "outputs": [
    {
     "data": {
      "image/png": "[encoded data removed]",
      "text/plain": [
       "<Figure size 1296x504 with 1 Axes>"
      ]
     },
     "metadata": {
      "needs_background": "light"
     },
     "output_type": "display_data"
    }
   ],
   "source": [
    "# set figure size for the graph \n",
    "plt.figure(figsize=(18, 7))\n",
    "\n",
    "ax = sns.histplot(items_per_order['quantity'])\n",
    "\n",
    "#set title and x/y labels\n",
    "plt.title('Items per Order Histogram')\n",
    "plt.xlabel('Quantity')\n",
    "plt.ylabel('Frequency')\n",
    "\n",
    "# set axis limit\n",
    "ax.set(xlim=(0, 500))\n",
    "\n",
    "plt.show()"
   ]
  },
  {
   "cell_type": "markdown",
   "id": "c16b1025",
   "metadata": {},
   "source": [
    "The distribution is right-skewed, probably due to wholesale customers who order a large number of products that the 'regular' customer won't. The majority of customers ordered between 1 and 70 items."
   ]
  },
  {
   "cell_type": "markdown",
   "id": "e59f7913",
   "metadata": {},
   "source": [
    "### What's the average order size?"
   ]
  },
  {
   "cell_type": "markdown",
   "id": "909e62a4",
   "metadata": {},
   "source": [
    "First, let's create a new column called `revenue` (`quantity` * `unit_price`), this will allow us to calculate average order size:"
   ]
  },
  {
   "cell_type": "code",
   "execution_count": 25,
   "id": "640703c5",
   "metadata": {},
   "outputs": [],
   "source": [
    "# for each row , calculate the revenue (`quantity` * `unit_price`)\n",
    "filtered_ecommerce_data['revenue'] = filtered_ecommerce_data['quantity'] * filtered_ecommerce_data['unit_price']"
   ]
  },
  {
   "cell_type": "code",
   "execution_count": 26,
   "id": "545a3229",
   "metadata": {},
   "outputs": [
    {
     "name": "stdout",
     "output_type": "stream",
     "text": [
      "The average order size is: 270.20\n"
     ]
    }
   ],
   "source": [
    "# aggregate the revenue for each order\n",
    "avg_order_size = filtered_ecommerce_data.groupby('invoice_no', as_index=False)['revenue'].sum()\n",
    "\n",
    "# print the average order size\n",
    "print('The average order size is: {:.2f}'.format(avg_order_size['revenue'].mean()))"
   ]
  },
  {
   "cell_type": "markdown",
   "id": "1ce0d3e7",
   "metadata": {},
   "source": [
    "270.2 is the average order size.\n",
    "\n",
    "Let's see the distribution of order sizes:"
   ]
  },
  {
   "cell_type": "code",
   "execution_count": 27,
   "id": "f1835234",
   "metadata": {},
   "outputs": [
    {
     "data": {
      "image/png": "[encoded data removed]",
      "text/plain": [
       "<Figure size 1296x504 with 1 Axes>"
      ]
     },
     "metadata": {
      "needs_background": "light"
     },
     "output_type": "display_data"
    }
   ],
   "source": [
    "# set figure size for the graph \n",
    "plt.figure(figsize=(18, 7))\n",
    "\n",
    "ax = sns.histplot(avg_order_size['revenue'])\n",
    "\n",
    "#set title and x/y labels\n",
    "plt.title(\"Distrbution of order's size\")\n",
    "plt.xlabel('Revenue')\n",
    "plt.ylabel('Frequency')\n",
    "\n",
    "# set axis limit\n",
    "ax.set(xlim=(0, 2000))\n",
    "\n",
    "plt.show()"
   ]
  },
  {
   "cell_type": "markdown",
   "id": "f6e548c2",
   "metadata": {},
   "source": [
    "Right-skewed distribution. Most of our customers' orders size don't exceed 350."
   ]
  },
  {
   "cell_type": "markdown",
   "id": "7c06a19b",
   "metadata": {},
   "source": [
    "### What are the top 10 bestsellers?"
   ]
  },
  {
   "cell_type": "code",
   "execution_count": 28,
   "id": "cd9e8fdc",
   "metadata": {},
   "outputs": [],
   "source": [
    "# aggregate the top 10 best-sellers items by the number of orders (not absolute quantity)\n",
    "top_10_best = filtered_ecommerce_data.groupby(\n",
    "    'description', as_index=False)['quantity'].count().sort_values('quantity', ascending=False).head(10)"
   ]
  },
  {
   "cell_type": "markdown",
   "id": "beee16cc",
   "metadata": {},
   "source": [
    "Let's plot a bar chart to visualize the top ten best-sellers items in the store:"
   ]
  },
  {
   "cell_type": "code",
   "execution_count": 29,
   "id": "e102a519",
   "metadata": {},
   "outputs": [
    {
     "data": {
      "image/png": "[encoded data removed]",
      "text/plain": [
       "<Figure size 1296x864 with 1 Axes>"
      ]
     },
     "metadata": {
      "needs_background": "light"
     },
     "output_type": "display_data"
    }
   ],
   "source": [
    "# set figure size for the graph \n",
    "plt.figure(figsize=(18, 12))\n",
    "\n",
    "# plot a horizontal bar chart to show the top 10 sellers\n",
    "ax = sns.barplot(data=top_10_best, x='quantity', y='description', orient = 'h', palette='muted')\n",
    "\n",
    "#set title and x/y labels\n",
    "plt.title(\"Top Ten Best-Sellers\", size=18)\n",
    "plt.xlabel('Number of orders', size=18)\n",
    "plt.ylabel('Items', size=14)\n",
    "\n",
    "plt.show()"
   ]
  },
  {
   "cell_type": "markdown",
   "id": "3ca97fa9",
   "metadata": {},
   "source": [
    "As these items are the top 10 best-sellers, they should continue to be sold at the store, since they are very popular with customers."
   ]
  },
  {
   "cell_type": "markdown",
   "id": "2f51cb95",
   "metadata": {},
   "source": [
    "### Conclusion"
   ]
  },
  {
   "cell_type": "markdown",
   "id": "7e9e6488",
   "metadata": {},
   "source": [
    "To conclude, at first, we plotted histograms for the numerical columns (`quantity`, `unit_price`). We discovered a significant amount of outliers in both distributions.\n",
    "\n",
    "After filtering the outliers out of the data, we plotted the histograms again and arrived at the following conclusions:\n",
    "\n",
    "- Both distributions are still right-skewed, but not as extreme as before the filtering.\n",
    "\n",
    "\n",
    "- The most frequent quantity is '1' with almost 130K instances.\n",
    "\n",
    "\n",
    "- Even numbers of quantity have significantly more instances than odd numbers. This can be contributed to sales/discounts. Sales/discounts will likely include an even number of products rather than odd.\n",
    "\n",
    "\n",
    "- A unit's price range is between 0.08 and 8.5.\n",
    "\n",
    "\n",
    "- Customers tend to buy relatively cheap (price between 0.08 and 4) products than the pricer ones (5 to 8).\n",
    "\n",
    "Next, we investigated when customers most often make a purchase. Here are the facts:\n",
    "\n",
    "- The most active period for orders was September to December, the Autumn season (if we're talking about the Northern Hemisphere). Compared to the rest of the year, we notice a significant increase in orders during these months.\n",
    "\n",
    "\n",
    "- There is a gap between December 23 and January 1, when no orders were placed. There is a possibility that the owners of the store decided to take a Christmas and New Year's Eve vacation, which would prevent the store from accepting orders.\n",
    "\n",
    "\n",
    "- The majority of online orders occur between 12 pm and 3 pm, during lunchtime.\n",
    "\n",
    "In the autumn, we have big sales events in the e-commerce sector, such as Black Friday, Cyber Monday, holiday sales, and so on. Consequently, our store is busier in the Autumn as well.\n",
    "\n",
    "Next, we discovered:\n",
    "\n",
    "- The majority of customers ordered between 1 and 70 items.\n",
    "\n",
    "\n",
    "- The average order size is: 270.20\n",
    "\n",
    "- Most of our customers' orders size doesn't exceed 350.\n",
    "\n",
    "Lastly, we determined which items are the store's best-sellers. We visualized it using a horizontal bar chart."
   ]
  },
  {
   "cell_type": "markdown",
   "id": "019d8f72",
   "metadata": {},
   "source": [
    "## Market basket analysis."
   ]
  },
  {
   "cell_type": "markdown",
   "id": "a4a653ed",
   "metadata": {},
   "source": [
    "<a class=\"anchor\" id=\"basket\"></a>\n",
    "[Go back to the Table of Contents](#table_of_contents)"
   ]
  },
  {
   "cell_type": "markdown",
   "id": "caf5db4a",
   "metadata": {},
   "source": [
    "In this step, we'll determine which items are bought together often using the Apriori algorithm.\n",
    "\n",
    "Market basket analysis is an application of association analysis which attempts to find common patterns of items in large data sets.\n",
    "\n",
    "**A brief explanation of Association rules:**\n",
    "\n",
    "Association rules are normally written like this: {Diapers} -> {Beer} which means that there is a strong relationship between customers that purchased diapers and also purchased beer in the same transaction.\n",
    "\n",
    "In the above example, the {Diaper} is the antecedent and the {Beer} is the consequent. Both antecedents and consequents can have multiple items. In other words, {Diaper, Gum} -> {Beer, Chips} is a valid rule.\n",
    "\n",
    "`Support`: is the relative frequency that the rules show up. In many instances, you may want to look for high support in order to make sure it is a useful relationship. However, there may be instances where a low support is useful if you are trying to find “hidden” relationships.\n",
    "\n",
    "`Confidence`: is a measure of the reliability of the rule. A confidence of .5 in the above example would mean that in 50% of the cases where Diaper and Gum were purchased, the purchase also included Beer and Chips. For product recommendation, a 50% confidence may be perfectly acceptable but in a medical situation, this level may not be high enough.\n",
    "\n",
    "`Lift`: is the ratio of the observed support to that expected if the two rules were independent. The basic rule of thumb is that a lift value close to 1 means the rules were completely independent. Lift values > 1 are generally more “interesting” and could be indicative of a useful rule pattern.\n",
    "\n",
    "This analysis requires that all the data for a transaction be included in 1 row and the items should be 1-hot encoded."
   ]
  },
  {
   "cell_type": "markdown",
   "id": "9ced9f61",
   "metadata": {},
   "source": [
    "**Group the dataset by transactions (`invoice_no`), with products' names as columns (`description`). For each transaction, assign the value 1 if the product's name is in the transaction, for the rest assign the value 0.**"
   ]
  },
  {
   "cell_type": "markdown",
   "id": "efa12954",
   "metadata": {},
   "source": [
    "First, let's write the function for the one hot encoding of the data:"
   ]
  },
  {
   "cell_type": "code",
   "execution_count": 30,
   "id": "a2f62d18",
   "metadata": {},
   "outputs": [],
   "source": [
    "def encode_units(x):\n",
    "    if x <= 0:\n",
    "        return 0\n",
    "    if x >= 1:\n",
    "        return 1"
   ]
  },
  {
   "cell_type": "code",
   "execution_count": 31,
   "id": "639b71b1",
   "metadata": {},
   "outputs": [],
   "source": [
    "# remove extra spaces in the `description` column\n",
    "filtered_ecommerce_data['description'] = filtered_ecommerce_data['description'].str.strip()\n",
    "\n",
    "# groupby `invoice_no` as indices, 'description' as columns\n",
    "# for each transaction, place the value 1 in the suitable column if the item was included in the transaction\n",
    "# place 0 otherwise\n",
    "market_basket = filtered_ecommerce_data.groupby(\n",
    "    ['invoice_no', 'description'])['quantity'].sum().unstack().reset_index().fillna(0).set_index('invoice_no')\n",
    "\n",
    "# apply the function to the table above\n",
    "basket_sets = market_basket.applymap(encode_units)"
   ]
  },
  {
   "cell_type": "markdown",
   "id": "dc3d0619",
   "metadata": {},
   "source": [
    "Now that the data is structured properly, we can generate frequent item sets that have a support of at least 3%:"
   ]
  },
  {
   "cell_type": "code",
   "execution_count": 32,
   "id": "0e14ea37",
   "metadata": {},
   "outputs": [],
   "source": [
    "frequent_itemsets = apriori(basket_sets, min_support=0.03, use_colnames=True)"
   ]
  },
  {
   "cell_type": "markdown",
   "id": "b524396d",
   "metadata": {},
   "source": [
    "The final step is to generate the rules with their corresponding support, confidence and lift:"
   ]
  },
  {
   "cell_type": "code",
   "execution_count": 33,
   "id": "826cee0d",
   "metadata": {},
   "outputs": [
    {
     "data": {
      "text/html": [
       "<div>\n",
       "<style scoped>\n",
       "    .dataframe tbody tr th:only-of-type {\n",
       "        vertical-align: middle;\n",
       "    }\n",
       "\n",
       "    .dataframe tbody tr th {\n",
       "        vertical-align: top;\n",
       "    }\n",
       "\n",
       "    .dataframe thead th {\n",
       "        text-align: right;\n",
       "    }\n",
       "</style>\n",
       "<table border=\"1\" class=\"dataframe\">\n",
       "  <thead>\n",
       "    <tr style=\"text-align: right;\">\n",
       "      <th></th>\n",
       "      <th>antecedents</th>\n",
       "      <th>consequents</th>\n",
       "      <th>antecedent support</th>\n",
       "      <th>consequent support</th>\n",
       "      <th>support</th>\n",
       "      <th>confidence</th>\n",
       "      <th>lift</th>\n",
       "      <th>leverage</th>\n",
       "      <th>conviction</th>\n",
       "    </tr>\n",
       "  </thead>\n",
       "  <tbody>\n",
       "    <tr>\n",
       "      <th>0</th>\n",
       "      <td>(ALARM CLOCK BAKELIKE RED)</td>\n",
       "      <td>(ALARM CLOCK BAKELIKE GREEN)</td>\n",
       "      <td>0.056342</td>\n",
       "      <td>0.052497</td>\n",
       "      <td>0.033883</td>\n",
       "      <td>0.601385</td>\n",
       "      <td>11.455678</td>\n",
       "      <td>0.030925</td>\n",
       "      <td>2.376987</td>\n",
       "    </tr>\n",
       "    <tr>\n",
       "      <th>1</th>\n",
       "      <td>(ALARM CLOCK BAKELIKE GREEN)</td>\n",
       "      <td>(ALARM CLOCK BAKELIKE RED)</td>\n",
       "      <td>0.052497</td>\n",
       "      <td>0.056342</td>\n",
       "      <td>0.033883</td>\n",
       "      <td>0.645435</td>\n",
       "      <td>11.455678</td>\n",
       "      <td>0.030925</td>\n",
       "      <td>2.661455</td>\n",
       "    </tr>\n",
       "    <tr>\n",
       "      <th>2</th>\n",
       "      <td>(PINK REGENCY TEACUP AND SAUCER)</td>\n",
       "      <td>(GREEN REGENCY TEACUP AND SAUCER)</td>\n",
       "      <td>0.038843</td>\n",
       "      <td>0.051605</td>\n",
       "      <td>0.031988</td>\n",
       "      <td>0.823529</td>\n",
       "      <td>15.958328</td>\n",
       "      <td>0.029984</td>\n",
       "      <td>5.374238</td>\n",
       "    </tr>\n",
       "    <tr>\n",
       "      <th>3</th>\n",
       "      <td>(GREEN REGENCY TEACUP AND SAUCER)</td>\n",
       "      <td>(PINK REGENCY TEACUP AND SAUCER)</td>\n",
       "      <td>0.051605</td>\n",
       "      <td>0.038843</td>\n",
       "      <td>0.031988</td>\n",
       "      <td>0.619870</td>\n",
       "      <td>15.958328</td>\n",
       "      <td>0.029984</td>\n",
       "      <td>2.528498</td>\n",
       "    </tr>\n",
       "    <tr>\n",
       "      <th>4</th>\n",
       "      <td>(ROSES REGENCY TEACUP AND SAUCER)</td>\n",
       "      <td>(GREEN REGENCY TEACUP AND SAUCER)</td>\n",
       "      <td>0.052998</td>\n",
       "      <td>0.051605</td>\n",
       "      <td>0.038397</td>\n",
       "      <td>0.724501</td>\n",
       "      <td>14.039349</td>\n",
       "      <td>0.035662</td>\n",
       "      <td>3.442457</td>\n",
       "    </tr>\n",
       "  </tbody>\n",
       "</table>\n",
       "</div>"
      ],
      "text/plain": [
       "                         antecedents                        consequents  \\\n",
       "0         (ALARM CLOCK BAKELIKE RED)       (ALARM CLOCK BAKELIKE GREEN)   \n",
       "1       (ALARM CLOCK BAKELIKE GREEN)         (ALARM CLOCK BAKELIKE RED)   \n",
       "2   (PINK REGENCY TEACUP AND SAUCER)  (GREEN REGENCY TEACUP AND SAUCER)   \n",
       "3  (GREEN REGENCY TEACUP AND SAUCER)   (PINK REGENCY TEACUP AND SAUCER)   \n",
       "4  (ROSES REGENCY TEACUP AND SAUCER)  (GREEN REGENCY TEACUP AND SAUCER)   \n",
       "\n",
       "   antecedent support  consequent support   support  confidence       lift  \\\n",
       "0            0.056342            0.052497  0.033883    0.601385  11.455678   \n",
       "1            0.052497            0.056342  0.033883    0.645435  11.455678   \n",
       "2            0.038843            0.051605  0.031988    0.823529  15.958328   \n",
       "3            0.051605            0.038843  0.031988    0.619870  15.958328   \n",
       "4            0.052998            0.051605  0.038397    0.724501  14.039349   \n",
       "\n",
       "   leverage  conviction  \n",
       "0  0.030925    2.376987  \n",
       "1  0.030925    2.661455  \n",
       "2  0.029984    5.374238  \n",
       "3  0.029984    2.528498  \n",
       "4  0.035662    3.442457  "
      ]
     },
     "execution_count": 33,
     "metadata": {},
     "output_type": "execute_result"
    }
   ],
   "source": [
    "rules = association_rules(frequent_itemsets, metric=\"lift\", min_threshold=1)\n",
    "# print the first 5 rows\n",
    "rules.head()"
   ]
  },
  {
   "cell_type": "markdown",
   "id": "599cc3ef",
   "metadata": {},
   "source": [
    "Let's filter the dataframe `rules`, look for a lift value above 3, and confidence level above 0.5:"
   ]
  },
  {
   "cell_type": "code",
   "execution_count": 34,
   "id": "c1504e1a",
   "metadata": {},
   "outputs": [
    {
     "data": {
      "text/html": [
       "<div>\n",
       "<style scoped>\n",
       "    .dataframe tbody tr th:only-of-type {\n",
       "        vertical-align: middle;\n",
       "    }\n",
       "\n",
       "    .dataframe tbody tr th {\n",
       "        vertical-align: top;\n",
       "    }\n",
       "\n",
       "    .dataframe thead th {\n",
       "        text-align: right;\n",
       "    }\n",
       "</style>\n",
       "<table border=\"1\" class=\"dataframe\">\n",
       "  <thead>\n",
       "    <tr style=\"text-align: right;\">\n",
       "      <th></th>\n",
       "      <th>antecedents</th>\n",
       "      <th>consequents</th>\n",
       "      <th>support</th>\n",
       "      <th>confidence</th>\n",
       "      <th>lift</th>\n",
       "    </tr>\n",
       "  </thead>\n",
       "  <tbody>\n",
       "    <tr>\n",
       "      <th>2</th>\n",
       "      <td>(PINK REGENCY TEACUP AND SAUCER)</td>\n",
       "      <td>(GREEN REGENCY TEACUP AND SAUCER)</td>\n",
       "      <td>0.031988</td>\n",
       "      <td>0.823529</td>\n",
       "      <td>15.958328</td>\n",
       "    </tr>\n",
       "    <tr>\n",
       "      <th>5</th>\n",
       "      <td>(GREEN REGENCY TEACUP AND SAUCER)</td>\n",
       "      <td>(ROSES REGENCY TEACUP AND SAUCER)</td>\n",
       "      <td>0.038397</td>\n",
       "      <td>0.744060</td>\n",
       "      <td>14.039349</td>\n",
       "    </tr>\n",
       "    <tr>\n",
       "      <th>4</th>\n",
       "      <td>(ROSES REGENCY TEACUP AND SAUCER)</td>\n",
       "      <td>(GREEN REGENCY TEACUP AND SAUCER)</td>\n",
       "      <td>0.038397</td>\n",
       "      <td>0.724501</td>\n",
       "      <td>14.039349</td>\n",
       "    </tr>\n",
       "    <tr>\n",
       "      <th>7</th>\n",
       "      <td>(JUMBO BAG PINK POLKADOT)</td>\n",
       "      <td>(JUMBO BAG RED RETROSPOT)</td>\n",
       "      <td>0.040515</td>\n",
       "      <td>0.659710</td>\n",
       "      <td>6.591219</td>\n",
       "    </tr>\n",
       "    <tr>\n",
       "      <th>1</th>\n",
       "      <td>(ALARM CLOCK BAKELIKE GREEN)</td>\n",
       "      <td>(ALARM CLOCK BAKELIKE RED)</td>\n",
       "      <td>0.033883</td>\n",
       "      <td>0.645435</td>\n",
       "      <td>11.455678</td>\n",
       "    </tr>\n",
       "    <tr>\n",
       "      <th>3</th>\n",
       "      <td>(GREEN REGENCY TEACUP AND SAUCER)</td>\n",
       "      <td>(PINK REGENCY TEACUP AND SAUCER)</td>\n",
       "      <td>0.031988</td>\n",
       "      <td>0.619870</td>\n",
       "      <td>15.958328</td>\n",
       "    </tr>\n",
       "    <tr>\n",
       "      <th>0</th>\n",
       "      <td>(ALARM CLOCK BAKELIKE RED)</td>\n",
       "      <td>(ALARM CLOCK BAKELIKE GREEN)</td>\n",
       "      <td>0.033883</td>\n",
       "      <td>0.601385</td>\n",
       "      <td>11.455678</td>\n",
       "    </tr>\n",
       "  </tbody>\n",
       "</table>\n",
       "</div>"
      ],
      "text/plain": [
       "                         antecedents                        consequents  \\\n",
       "2   (PINK REGENCY TEACUP AND SAUCER)  (GREEN REGENCY TEACUP AND SAUCER)   \n",
       "5  (GREEN REGENCY TEACUP AND SAUCER)  (ROSES REGENCY TEACUP AND SAUCER)   \n",
       "4  (ROSES REGENCY TEACUP AND SAUCER)  (GREEN REGENCY TEACUP AND SAUCER)   \n",
       "7          (JUMBO BAG PINK POLKADOT)          (JUMBO BAG RED RETROSPOT)   \n",
       "1       (ALARM CLOCK BAKELIKE GREEN)         (ALARM CLOCK BAKELIKE RED)   \n",
       "3  (GREEN REGENCY TEACUP AND SAUCER)   (PINK REGENCY TEACUP AND SAUCER)   \n",
       "0         (ALARM CLOCK BAKELIKE RED)       (ALARM CLOCK BAKELIKE GREEN)   \n",
       "\n",
       "    support  confidence       lift  \n",
       "2  0.031988    0.823529  15.958328  \n",
       "5  0.038397    0.744060  14.039349  \n",
       "4  0.038397    0.724501  14.039349  \n",
       "7  0.040515    0.659710   6.591219  \n",
       "1  0.033883    0.645435  11.455678  \n",
       "3  0.031988    0.619870  15.958328  \n",
       "0  0.033883    0.601385  11.455678  "
      ]
     },
     "execution_count": 34,
     "metadata": {},
     "output_type": "execute_result"
    }
   ],
   "source": [
    "# apply filters and sort by 'confidence' and 'lift'\n",
    "rules[(rules['lift'] >= 4) & (rules['confidence'] >= 0.6)][[\n",
    "    'antecedents', 'consequents', 'support', 'confidence', 'lift']].sort_values(['confidence', 'lift'], ascending=False)"
   ]
  },
  {
   "cell_type": "markdown",
   "id": "6a505e38",
   "metadata": {},
   "source": [
    "### Conclusion"
   ]
  },
  {
   "cell_type": "markdown",
   "id": "99fe1ccb",
   "metadata": {},
   "source": [
    "To conclude, the following pairs of items are frequently bought together, and should be included in each other recommended items:\n",
    "\n",
    "1. `PINK REGENCY TEACUP AND SAUCER` and `GREEN REGENCY TEACUP AND SAUCER`.\n",
    "\n",
    "\n",
    "2. `GREEN REGENCY TEACUP AND SAUCER` and `ROSES REGENCY TEACUP AND SAUCER`.\n",
    "\n",
    "\n",
    "3. `JUMBO BAG PINK POLKADOT` and `JUMBO BAG RED RETROSPOT`.\n",
    "\n",
    "\n",
    "4. `ALARM CLOCK BAKELIKE GREEN` and `ALARM CLOCK BAKELIKE RED`."
   ]
  },
  {
   "cell_type": "markdown",
   "id": "d31fcb0f",
   "metadata": {},
   "source": [
    "## Testing hypotheses."
   ]
  },
  {
   "cell_type": "markdown",
   "id": "b48ee806",
   "metadata": {},
   "source": [
    "<a class=\"anchor\" id=\"test\"></a>\n",
    "[Go back to the Table of Contents](#table_of_contents)"
   ]
  },
  {
   "cell_type": "markdown",
   "id": "6bc8d35f",
   "metadata": {},
   "source": [
    "### Does the average purchase size differ between Autumn and Summer?"
   ]
  },
  {
   "cell_type": "markdown",
   "id": "844c785c",
   "metadata": {},
   "source": [
    "First, we need to sort transactions according so seasons. We'll write a function that will assign a season to each transactions in our data.\n",
    "\n",
    "**Note:** We'll determine the seasons range according to the Northern Hemisphere."
   ]
  },
  {
   "cell_type": "code",
   "execution_count": 35,
   "id": "8fc45ccc",
   "metadata": {},
   "outputs": [],
   "source": [
    "def determine_season(row):\n",
    "    '''\n",
    "    This function returns the season in which an order was placed.\n",
    "    \n",
    "    @param row: The row representing the order.\n",
    "\n",
    "    @return: the season in which an order was placed.\n",
    "    '''   \n",
    "    month = row['invoice_date'].month\n",
    "    day = row['invoice_date'].day\n",
    "\n",
    "    if month in (1, 2, 3):\n",
    "        season = 'winter'\n",
    "    elif month in (4, 5, 6):\n",
    "        season = 'spring'\n",
    "    elif month in (7, 8, 9):\n",
    "        season = 'summer'\n",
    "    else:\n",
    "        season = 'autumn'\n",
    "\n",
    "    if (month == 3) and (day > 19):\n",
    "        season = 'spring'\n",
    "    elif (month == 6) and (day > 20):\n",
    "        season = 'summer'\n",
    "    elif (month == 9) and (day > 21):\n",
    "        season = 'autumn'\n",
    "    elif (month == 12) and (day > 20):\n",
    "        season = 'winter'\n",
    "        \n",
    "    return season"
   ]
  },
  {
   "cell_type": "markdown",
   "id": "4983f47e",
   "metadata": {},
   "source": [
    "Now let's apply the function to our data:"
   ]
  },
  {
   "cell_type": "code",
   "execution_count": 36,
   "id": "7501b66b",
   "metadata": {},
   "outputs": [],
   "source": [
    "filtered_ecommerce_data['season'] = filtered_ecommerce_data.apply(determine_season, axis=1)"
   ]
  },
  {
   "cell_type": "markdown",
   "id": "33481bec",
   "metadata": {},
   "source": [
    "Let's create our sample for the test:"
   ]
  },
  {
   "cell_type": "code",
   "execution_count": 37,
   "id": "c55c17b4",
   "metadata": {},
   "outputs": [],
   "source": [
    "# aggregate the revenue per order placed in the autumn\n",
    "autumn_sample = filtered_ecommerce_data.query('season == \"autumn\"').groupby('invoice_no')['revenue'].sum()\n",
    "\n",
    "# aggregate the revenue per order placed in the summer\n",
    "summer_sample = filtered_ecommerce_data.query('season == \"summer\"').groupby('invoice_no')['revenue'].sum()"
   ]
  },
  {
   "cell_type": "markdown",
   "id": "1447b292",
   "metadata": {},
   "source": [
    "Next, let's formulate our hypothesis:\n",
    "\n",
    "Average purchase size differ between Autumn and Summer.\n",
    "\n",
    "In this case are null hypothesis would be:\n",
    "\n",
    "- The average purchase size in the Autumn and Summer are the same.\n",
    "\n",
    "And the alternative hypothesis would be:\n",
    "\n",
    "- The average purchase size in the Autumn and Summer are the not same.\n",
    "\n",
    "Before we test the hypothesis let's examine the differences between the samples average order size variance."
   ]
  },
  {
   "cell_type": "code",
   "execution_count": 38,
   "id": "f4627188",
   "metadata": {},
   "outputs": [
    {
     "name": "stdout",
     "output_type": "stream",
     "text": [
      "The variance of  autumn sample is 194053.4173114105\n",
      "The variance of summer sample is 102025.4797236797\n"
     ]
    }
   ],
   "source": [
    "print('The variance of  autumn sample is {}'.format(np.var(autumn_sample)))\n",
    "print('The variance of summer sample is {}'.format(np.var(summer_sample)))"
   ]
  },
  {
   "cell_type": "markdown",
   "id": "61ce2058",
   "metadata": {},
   "source": [
    "We can see clearly that there is more than 5% differences between the variance values, that means we should use 'equal_var=False' when we test the hypothesis.\n",
    "\n",
    "We chose to use alpha value of 5% since its considered to be the 'golden standard'."
   ]
  },
  {
   "cell_type": "code",
   "execution_count": 39,
   "id": "796e02eb",
   "metadata": {},
   "outputs": [
    {
     "name": "stdout",
     "output_type": "stream",
     "text": [
      "p-value:  0.051652803153175594\n",
      "We can't reject the null hypothesis\n"
     ]
    }
   ],
   "source": [
    "alpha = 0.05  # critical statistical significance level\n",
    "\n",
    "# if the p-value is less than alpha, we reject the hypothesis\n",
    "results = st.ttest_ind(autumn_sample, summer_sample, equal_var=False)\n",
    "\n",
    "print('p-value: ', results.pvalue)\n",
    "\n",
    "if results.pvalue < alpha:\n",
    "    print(\"We reject the null hypothesis\")\n",
    "else:\n",
    "    print(\"We can't reject the null hypothesis\")"
   ]
  },
  {
   "cell_type": "markdown",
   "id": "a657f33c",
   "metadata": {},
   "source": [
    "The null hypothesis can't be rejected, meaning, we can't say for sure if the average purchase size differ between Autumn and Summer."
   ]
  },
  {
   "cell_type": "markdown",
   "id": "86b8ecc6",
   "metadata": {},
   "source": [
    "### Does the average purchase size differ between new customers and regular customers?"
   ]
  },
  {
   "cell_type": "markdown",
   "id": "97373c30",
   "metadata": {},
   "source": [
    "First, we'll group `filtered_ecommerce_data` by known customers (`'customer_id != \"unknown\"'`), for each of them we'll count the number of unique orders he placed, and sum the total revenue he made for the store:"
   ]
  },
  {
   "cell_type": "code",
   "execution_count": 40,
   "id": "3b8f0bff",
   "metadata": {},
   "outputs": [],
   "source": [
    "revenue_per_customer = filtered_ecommerce_data.query('customer_id != \"unknown\"').groupby(\n",
    "    'customer_id')['invoice_no','revenue'].agg({'invoice_no' : pd.Series.nunique, 'revenue' : 'sum'})"
   ]
  },
  {
   "cell_type": "markdown",
   "id": "92accce9",
   "metadata": {},
   "source": [
    "Now, we'll calculate the average order size for  each customer:"
   ]
  },
  {
   "cell_type": "code",
   "execution_count": 41,
   "id": "c0b0c631",
   "metadata": {},
   "outputs": [],
   "source": [
    "revenue_per_customer['revenue_per_order'] = revenue_per_customer['revenue'] / revenue_per_customer['invoice_no']"
   ]
  },
  {
   "cell_type": "markdown",
   "id": "2fcfa06c",
   "metadata": {},
   "source": [
    "Next, we'll split the data to two parts: new customers, or regular customers.\n",
    "\n",
    "**Note:** We'll consider customers who ordered up to 2 times 'new', the rest will be 'regular'."
   ]
  },
  {
   "cell_type": "code",
   "execution_count": 42,
   "id": "1e223cc0",
   "metadata": {},
   "outputs": [],
   "source": [
    "new_sample = revenue_per_customer.query('invoice_no <= 2')['revenue']\n",
    "\n",
    "reg_sample = revenue_per_customer.query('invoice_no > 2')['revenue']"
   ]
  },
  {
   "cell_type": "markdown",
   "id": "89c5a6b2",
   "metadata": {},
   "source": [
    "Next, let's formulate our hypothesis:\n",
    "\n",
    "Average purchase size differ between new and regular customers.\n",
    "\n",
    "In this case are null hypothesis would be:\n",
    "\n",
    "- The average purchase size of new customer and regular customer are the same.\n",
    "\n",
    "And the alternative hypothesis would be:\n",
    "\n",
    "- The average purchase size of new customer and regular customer are not the same.\n",
    "\n",
    "Before we test the hypothesis let's examine the differences between the samples average order size variance."
   ]
  },
  {
   "cell_type": "code",
   "execution_count": 43,
   "id": "5e090e3a",
   "metadata": {},
   "outputs": [
    {
     "name": "stdout",
     "output_type": "stream",
     "text": [
      "The variance of  new customers sample is 84804.99229737616\n",
      "The variance of regular customers sample is 7901305.045668643\n"
     ]
    }
   ],
   "source": [
    "print('The variance of  new customers sample is {}'.format(np.var(new_sample)))\n",
    "print('The variance of regular customers sample is {}'.format(np.var(reg_sample)))"
   ]
  },
  {
   "cell_type": "markdown",
   "id": "fa2aba4a",
   "metadata": {},
   "source": [
    "We can see clearly that there is more than 5% differences between the variance values, that means we should use 'equal_var=False' when we test the hypothesis.\n",
    "\n",
    "We chose to use alpha value of 5% since its considered to be the 'golden standard'."
   ]
  },
  {
   "cell_type": "code",
   "execution_count": 44,
   "id": "66c01403",
   "metadata": {},
   "outputs": [
    {
     "name": "stdout",
     "output_type": "stream",
     "text": [
      "p-value:  3.1892457164632273e-98\n",
      "We reject the null hypothesis\n"
     ]
    }
   ],
   "source": [
    "alpha = 0.05  # critical statistical significance level\n",
    "# if the p-value is less than alpha, we reject the hypothesis\n",
    "\n",
    "results = st.ttest_ind(new_sample, reg_sample, equal_var=False)\n",
    "\n",
    "print('p-value: ', results.pvalue)\n",
    "\n",
    "if results.pvalue < alpha:\n",
    "    print(\"We reject the null hypothesis\")\n",
    "else:\n",
    "    print(\"We can't reject the null hypothesis\")"
   ]
  },
  {
   "cell_type": "markdown",
   "id": "1e1fbe63",
   "metadata": {},
   "source": [
    "As you can see above the null hypothesis was rejected which means that the average order size of new and regular customers are not equal."
   ]
  },
  {
   "cell_type": "markdown",
   "id": "da4ef594",
   "metadata": {},
   "source": [
    "### Conclusion"
   ]
  },
  {
   "cell_type": "markdown",
   "id": "25dfe525",
   "metadata": {},
   "source": [
    "To conclude, at first we formulated the hypotheses.\n",
    "\n",
    "**The first hypothesis:**\n",
    "The average purchase size differs between Autumn and Summer.\n",
    "Next, we stated the null and alternative hypotheses:\n",
    "- H0, The average purchase size in the Autumn and Summer are the same.\n",
    "- H1, The average purchase size in the Autumn and Summer are the not same.\n",
    "\n",
    "**The second hypothesis:**\n",
    "The average purchase size differs between new and regular customers.\n",
    "Next, we stated the null and alternative hypotheses:\n",
    "- H0, The average purchase size of new customers and regular customers is the same.\n",
    "- H1, The average purchase size of new customers and regular customers is not the same.\n",
    "\n",
    "For both hypotheses, we decided to use an alpha value of 0.05 since it's the 'golden standard' for testing the hypothesis.\n",
    "Before we tested the hypotheses we examined the differences between the sample's variance.\n",
    "In both cases the difference was bigger than 5%, therefore we used 'equal_var=False' in both t-tests.\n",
    "\n",
    "Later we applied t-test to test both hypotheses and got the results:\n",
    "- In the first hypothesis, the null hypothesis wasn't rejected.\n",
    "- In the second hypothesis, the null hypothesis was rejected."
   ]
  },
  {
   "cell_type": "markdown",
   "id": "55737758",
   "metadata": {},
   "source": [
    "## Final conclusion"
   ]
  },
  {
   "cell_type": "markdown",
   "id": "6d5d568a",
   "metadata": {},
   "source": [
    "<a class=\"anchor\" id=\"conclusion\"></a>\n",
    "[Go back to the Table of Contents](#table_of_contents)"
   ]
  },
  {
   "cell_type": "markdown",
   "id": "aa59fb9c",
   "metadata": {},
   "source": [
    "In conclusion, upon reviewing the general information of `ecommerce_data`, several issues immediately came to mind:\n",
    "\n",
    "- The columns' names do not comply with Python programming convention.\n",
    "\n",
    "\n",
    "- `InvoiceDate` column's data type should be DateTime instead of an object.\n",
    "\n",
    "\n",
    "- There are a lot of missing values in the 'CustomerId' and some in the 'Description' columns.\n",
    "\n",
    "\n",
    "- There are 5,268 duplicates in the data.\n",
    "\n",
    "\n",
    "- There are negative values in columns `Quantity` and `UnitPrice`, probably due to a technical issue. Moreover, based on the info provided by the describe() method, we can tell that there are outliers in these columns as well.\n",
    "\n",
    "Later, in the preprocessing stage, we took the following steps:\n",
    "\n",
    "- Changed the columns' names so they'll comply with Python programming convention.\n",
    "\n",
    "\n",
    "- `InvoiceDate` column's data type was converted from `object` to `datetime`.\n",
    "\n",
    "\n",
    "- We dropped the rows with missing values in `description`.\n",
    "\n",
    "\n",
    "- Filled the missing values in `customer_id` with the value 'unknown'.\n",
    "\n",
    "\n",
    "- We dropped the rows with the negative values in columns `quantity`, and `unit_price`. These rows probably represented orders' cancellations/adjustments that aren't relevant to our analysis.\n",
    "\n",
    "A probable explanation for these issues is that something went wrong during the input/preprocess of the data.\n",
    "\n",
    "Next, at the EDA stage, we plotted histograms for the numerical columns (`quantity`, `unit_price`). We discovered a significant amount of outliers in both distributions.\n",
    "\n",
    "After filtering the outliers out of the data, we plotted the histograms again and arrived at the following conclusions:\n",
    "\n",
    "- Both distributions are still right-skewed, but not as extreme as before the filtering.\n",
    "\n",
    "\n",
    "- The most frequent quantity is '1' with almost 130K instances.\n",
    "\n",
    "\n",
    "- Even numbers of quantity have significantly more instances than odd numbers. This can be contributed to sales/discounts. Sales/discounts will likely include an even number of products rather than odd.\n",
    "\n",
    "\n",
    "- A unit's price range is between 0.08 and 8.5.\n",
    "\n",
    "\n",
    "- Customers tend to buy relatively cheap (price between 0.08 and 4) products than the pricer ones (5 to 8).\n",
    "\n",
    "Next, we investigated when customers most often make a purchase. Here are the facts:\n",
    "\n",
    "- The most active period for orders was September to December, the Autumn season (if we're talking about the Northern Hemisphere). Compared to the rest of the year, we notice a significant increase in orders during these months.\n",
    "\n",
    "\n",
    "- There is a gap between December 23 and January 1, when no orders were placed. There is a possibility that the owners of the store decided to take a Christmas and New Year's Eve vacation, which would prevent the store from accepting orders.\n",
    "\n",
    "\n",
    "- The majority of online orders occur between 12 pm and 3 pm, during lunchtime.\n",
    "\n",
    "In the autumn, we have big sales events in the e-commerce sector, such as Black Friday, Cyber Monday, holiday sales, and so on. Consequently, our store is busier in the Autumn as well.\n",
    "\n",
    "Next, we discovered:\n",
    "\n",
    "- The majority of customers ordered between 1 and 70 items.\n",
    "\n",
    "\n",
    "- The average order size is: 270.20\n",
    "\n",
    "- Most of our customers' orders size doesn't exceed 350.\n",
    "\n",
    "Lastly, we determined which items are the store's best-sellers, we visualized it using a horizontal bar chart.\n",
    "\n",
    "Later, we applied market basket analysis to determine which items are bought together often using the Apriori algorithm.\n",
    "\n",
    "the following pairs of items are frequently bought together, and should be included in each other recommended items:\n",
    "\n",
    "1. `PINK REGENCY TEACUP AND SAUCER` and `GREEN REGENCY TEACUP AND SAUCER`.\n",
    "\n",
    "\n",
    "2. `GREEN REGENCY TEACUP AND SAUCER` and `ROSES REGENCY TEACUP AND SAUCER`.\n",
    "\n",
    "\n",
    "3. `JUMBO BAG PINK POLKADOT` and `JUMBO BAG RED RETROSPOT`.\n",
    "\n",
    "\n",
    "4. `ALARM CLOCK BAKELIKE GREEN` and `ALARM CLOCK BAKELIKE RED`.\n",
    "\n",
    "Next, we tested two hypotheses.\n",
    "\n",
    "**The first hypothesis:**\n",
    "Average purchase sizes differ between Autumn and Summer.\n",
    "Next, we stated the null and alternative hypotheses:\n",
    "- H0, The average purchase size in the Autumn and Summer are the same.\n",
    "- H1, The average purchase size in the Autumn and Summer are the not same.\n",
    "\n",
    "**The second hypothesis:**\n",
    "Average purchase sizes differ between new and regular customers.\n",
    "Next, we stated the null and alternative hypotheses:\n",
    "- H0, The average purchase size of new customers and regular customers is the same.\n",
    "- H1, The average purchase size of new customers and regular customers is not the same.\n",
    "\n",
    "For both hypotheses, we decided to use an alpha value of 0.05 since it is the 'golden standard' for testing the hypothesis.\n",
    "Before we tested the hypotheses we examined the differences between the sample's variance.\n",
    "In both cases the difference was bigger than 5%, therefore we used 'equal_var=False' in both t-tests.\n",
    "\n",
    "Later we applied t-test to test both hypotheses and got the results:\n",
    "- In the first hypothesis, the null hypothesis wasn't rejected.\n",
    "- In the second hypothesis, the null hypothesis was rejected."
   ]
  },
  {
   "cell_type": "markdown",
   "id": "b1930808",
   "metadata": {},
   "source": [
    "## Dashboard link"
   ]
  },
  {
   "cell_type": "markdown",
   "id": "05b55188",
   "metadata": {},
   "source": [
    "<a class=\"anchor\" id=\"links\"></a>\n",
    "[Go back to the Table of Contents](#table_of_contents)"
   ]
  },
  {
   "cell_type": "markdown",
   "id": "af81a971",
   "metadata": {},
   "source": [
    "Link to dashboard:\n",
    "\n",
    "https://public.tableau.com/views/Dashboard-DailyPurchases/DailypurchasesDashboard?:language=en-US&publish=yes&:display_count=n&:origin=viz_share_link"
   ]
  },
  {
   "cell_type": "markdown",
   "id": "99f308b7",
   "metadata": {},
   "source": [
    "## Resources"
   ]
  },
  {
   "cell_type": "markdown",
   "id": "471560ef",
   "metadata": {},
   "source": [
    "<a class=\"anchor\" id=\"re\"></a>\n",
    "[Go back to the Table of Contents](#table_of_contents)"
   ]
  },
  {
   "cell_type": "markdown",
   "id": "07559c5a",
   "metadata": {},
   "source": [
    "1. https://www.dotactiv.com/blog/product-range-review - A blog post that helped me understand what is product range analysis and how to approach it.\n",
    "\n",
    "\n",
    "2. https://medium.com/analytics-vidhya/in-technical-terms-apriori-used-in-the-market-basket-analysis-tries-to-find-out-which-items-are-78287911a4df - Blog post that introduced me to market basket analysis.\n",
    "\n",
    "\n",
    "3. https://www-users.cse.umn.edu/~kumar001/dmbook/ch6.pdf - Explanation of the math behind association analysis.\n",
    "\n",
    "\n",
    "4. http://rasbt.github.io/mlxtend/user_guide/frequent_patterns/apriori/ - Documentation of the implementation of the Apriori algorithm within the mlxtend library.\n",
    "\n",
    "\n",
    "5. https://plotly.com/python/ , https://seaborn.pydata.org/ , https://matplotlib.org/ - Documentation of visualization libraries that I used in the project, helped me to make some of my visualizations."
   ]
  }
 ],
 "metadata": {
  "kernelspec": {
   "display_name": "Python 3",
   "language": "python",
   "name": "python3"
  },
  "language_info": {
   "codemirror_mode": {
    "name": "ipython",
    "version": 3
   },
   "file_extension": ".py",
   "mimetype": "text/x-python",
   "name": "python",
   "nbconvert_exporter": "python",
   "pygments_lexer": "ipython3",
   "version": "3.8.8"
  }
 },
 "nbformat": 4,
 "nbformat_minor": 5
}
